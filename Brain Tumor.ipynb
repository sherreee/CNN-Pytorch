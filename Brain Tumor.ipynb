{
 "cells": [
  {
   "cell_type": "code",
   "execution_count": 1,
   "id": "d7c80b56",
   "metadata": {},
   "outputs": [
    {
     "name": "stdout",
     "output_type": "stream",
     "text": [
      "Requirement already satisfied: split-folders in c:\\users\\sherr\\anaconda3\\lib\\site-packages (0.5.1)\n"
     ]
    },
    {
     "name": "stderr",
     "output_type": "stream",
     "text": [
      "DEPRECATION: pyodbc 4.0.0-unsupported has a non-standard version number. pip 24.0 will enforce this behaviour change. A possible replacement is to upgrade to a newer version of pyodbc or contact the author to suggest that they release a version with a conforming version number. Discussion can be found at https://github.com/pypa/pip/issues/12063\n",
      "WARNING: There was an error checking the latest version of pip.\n"
     ]
    },
    {
     "name": "stdout",
     "output_type": "stream",
     "text": [
      "Requirement already satisfied: torch-summary in c:\\users\\sherr\\anaconda3\\lib\\site-packages (1.4.5)"
     ]
    },
    {
     "name": "stderr",
     "output_type": "stream",
     "text": [
      "DEPRECATION: pyodbc 4.0.0-unsupported has a non-standard version number. pip 24.0 will enforce this behaviour change. A possible replacement is to upgrade to a newer version of pyodbc or contact the author to suggest that they release a version with a conforming version number. Discussion can be found at https://github.com/pypa/pip/issues/12063\n",
      "WARNING: There was an error checking the latest version of pip.\n"
     ]
    },
    {
     "name": "stdout",
     "output_type": "stream",
     "text": [
      "\n",
      "Requirement already satisfied: opencv-python in c:\\users\\sherr\\anaconda3\\lib\\site-packages (4.8.1.78)\n",
      "Requirement already satisfied: numpy>=1.17.0 in c:\\users\\sherr\\anaconda3\\lib\\site-packages (from opencv-python) (1.22.4)\n"
     ]
    },
    {
     "name": "stderr",
     "output_type": "stream",
     "text": [
      "DEPRECATION: pyodbc 4.0.0-unsupported has a non-standard version number. pip 24.0 will enforce this behaviour change. A possible replacement is to upgrade to a newer version of pyodbc or contact the author to suggest that they release a version with a conforming version number. Discussion can be found at https://github.com/pypa/pip/issues/12063\n",
      "WARNING: There was an error checking the latest version of pip.\n"
     ]
    }
   ],
   "source": [
    "!pip install split-folders\n",
    "!pip install torch-summary\n",
    "!pip install opencv-python"
   ]
  },
  {
   "cell_type": "code",
   "execution_count": 2,
   "id": "552a50f8",
   "metadata": {},
   "outputs": [],
   "source": [
    "# Import essential libraries\n",
    "import numpy as np \n",
    "import pandas as pd \n",
    "import matplotlib.pyplot as plt\n",
    "import seaborn as sns; sns.set(style='darkgrid')\n",
    "import copy # A module that provides functions for creating copies of objects, useful for avoiding unintended modifications to variables.\n",
    "import os # A module that provides a way to interact with the operating system, allowing for tasks such as file and directory manipulation.\n",
    "import torch\n",
    "from PIL import Image # A module from the Python Imaging Library (PIL) that provides functionality for opening, manipulating, and saving various image file formats.\n",
    "from torch.utils.data import Dataset # A PyTorch class that represents a dataset and provides an interface for accessing and processing the data during training.\n",
    "import torchvision\n",
    "import torchvision.transforms as transforms # A module from the torchvision library that provides common image transformations, such as resizing, cropping, and normalization.\n",
    "from torch.utils.data import random_split # A function from PyTorch that allows for randomly splitting a dataset into training and validation subsets.\n",
    "from torch.optim.lr_scheduler import ReduceLROnPlateau # A PyTorch scheduler that adjusts the learning rate during training based on a specified metric, reducing it when the metric plateaus.\n",
    "import torch.nn as nn # A module in PyTorch that provides classes for defining and building neural networks.\n",
    "from torchvision import utils # A module from torchvision that contains utility functions for working with images, such as saving and visualizing them.\n",
    "from torchvision.datasets import ImageFolder\n",
    "import splitfolders\n",
    "from torchsummary import summary\n",
    "import torch.nn.functional as F\n",
    "import pathlib\n",
    "from sklearn.metrics import confusion_matrix, classification_report\n",
    "import itertools # This import statement imports the itertools module, which provides functions for efficient looping and combining of iterables. It can be used for tasks such as generating combinations or permutations of elements.\n",
    "from tqdm.notebook import trange, tqdm # These functions allow for the creation of progress bars to track the progress of loops or tasks.\n",
    "from torch import optim\n",
    "import warnings\n",
    "warnings.filterwarnings('ignore')"
   ]
  },
  {
   "cell_type": "code",
   "execution_count": 3,
   "id": "509f2fac",
   "metadata": {},
   "outputs": [
    {
     "name": "stdout",
     "output_type": "stream",
     "text": [
      "|    |   Unnamed: 0 | image           | class   | format   | mode   | shape         |\n",
      "|---:|-------------:|:----------------|:--------|:---------|:-------|:--------------|\n",
      "|  0 |            0 | Cancer (1).jpg  | tumor   | JPEG     | RGB    | (512, 512, 3) |\n",
      "|  1 |            1 | Cancer (1).png  | tumor   | PNG      | L      | (300, 240)    |\n",
      "|  2 |            2 | Cancer (1).tif  | tumor   | TIFF     | RGB    | (256, 256, 3) |\n",
      "|  3 |            3 | Cancer (10).jpg | tumor   | JPEG     | RGB    | (512, 512, 3) |\n",
      "|  4 |            4 | Cancer (10).tif | tumor   | TIFF     | RGB    | (256, 256, 3) |\n"
     ]
    }
   ],
   "source": [
    "labels_df = pd.read_csv('metadata.csv')\n",
    "print(labels_df.head().to_markdown())"
   ]
  },
  {
   "cell_type": "code",
   "execution_count": 4,
   "id": "8d891991",
   "metadata": {},
   "outputs": [
    {
     "data": {
      "text/plain": [
       "(4600, 6)"
      ]
     },
     "execution_count": 4,
     "metadata": {},
     "output_type": "execute_result"
    }
   ],
   "source": [
    "labels_df.shape\n"
   ]
  },
  {
   "cell_type": "markdown",
   "id": "b509a5b0",
   "metadata": {},
   "source": [
    "# Introduction"
   ]
  },
  {
   "cell_type": "markdown",
   "id": "4b192120",
   "metadata": {},
   "source": [
    "Overall, deep learning has the potential to revolutionize brain tumor detection and diagnosis. By leveraging the power of neural networks, we can enhance the accuracy, efficiency, and understanding of brain tumor imaging, ultimately leading to improved patient care and outcomes in the field of neuro-oncology."
   ]
  },
  {
   "cell_type": "markdown",
   "id": "1ebd1fa8",
   "metadata": {},
   "source": [
    "# Objective"
   ]
  },
  {
   "cell_type": "markdown",
   "id": "426a358d",
   "metadata": {},
   "source": [
    "develop a Convolutional Neural Network (CNN) using the PyTorch framework that can accurately detect and classify Brain Tumors from MRI scans. The CNN will be trained on a large dataset of labeled brain tumor images to learn the patterns and features associated with different tumor types. The study aims to achieve high accuracy in tumor detection and classification, providing a valuable tool for healthcare professionals in the field of neuro-oncology. The ultimate goal is to improve the efficiency and accuracy of brain tumor diagnosis, enabling timely and appropriate treatment planning for patients."
   ]
  },
  {
   "cell_type": "markdown",
   "id": "9b83709d",
   "metadata": {},
   "source": [
    "# Split Dataset"
   ]
  },
  {
   "cell_type": "markdown",
   "id": "dcc25ce5",
   "metadata": {},
   "source": [
    "80% - Training data, 20% - Validation"
   ]
  },
  {
   "cell_type": "code",
   "execution_count": 5,
   "id": "01fbade7",
   "metadata": {},
   "outputs": [
    {
     "name": "stdout",
     "output_type": "stream",
     "text": [
      "Processing non-JPEG file: Cancer (1).png\n",
      "Moving file to C:\\Users\\sherr\\Desktop\\NTU Y4S1\\FYP\\CNN Pytorch\\Brain Tumor Data Set JPEG\\Brain Tumor\\Cancer (1).jpg\n",
      "Processing non-JPEG file: Cancer (1).tif\n",
      "Moving file to C:\\Users\\sherr\\Desktop\\NTU Y4S1\\FYP\\CNN Pytorch\\Brain Tumor Data Set JPEG\\Brain Tumor\\Cancer (1).jpg\n",
      "Processing non-JPEG file: Cancer (10).tif\n",
      "Moving file to C:\\Users\\sherr\\Desktop\\NTU Y4S1\\FYP\\CNN Pytorch\\Brain Tumor Data Set JPEG\\Brain Tumor\\Cancer (10).jpg\n"
     ]
    },
    {
     "name": "stdout",
     "output_type": "stream",
     "text": [
      "Processing non-JPEG file: Cancer (11).tif\n",
      "Moving file to C:\\Users\\sherr\\Desktop\\NTU Y4S1\\FYP\\CNN Pytorch\\Brain Tumor Data Set JPEG\\Brain Tumor\\Cancer (11).jpg\n",
      "Processing non-JPEG file: Cancer (12).tif\n",
      "Moving file to C:\\Users\\sherr\\Desktop\\NTU Y4S1\\FYP\\CNN Pytorch\\Brain Tumor Data Set JPEG\\Brain Tumor\\Cancer (12).jpg\n",
      "Processing non-JPEG file: Cancer (13).tif\n",
      "Moving file to C:\\Users\\sherr\\Desktop\\NTU Y4S1\\FYP\\CNN Pytorch\\Brain Tumor Data Set JPEG\\Brain Tumor\\Cancer (13).jpg\n",
      "Processing non-JPEG file: Cancer (14).tif\n",
      "Moving file to C:\\Users\\sherr\\Desktop\\NTU Y4S1\\FYP\\CNN Pytorch\\Brain Tumor Data Set JPEG\\Brain Tumor\\Cancer (14).jpg\n",
      "Processing non-JPEG file: Cancer (15).tif\n",
      "Moving file to C:\\Users\\sherr\\Desktop\\NTU Y4S1\\FYP\\CNN Pytorch\\Brain Tumor Data Set JPEG\\Brain Tumor\\Cancer (15).jpg\n",
      "Processing non-JPEG file: Cancer (16).tif\n",
      "Moving file to C:\\Users\\sherr\\Desktop\\NTU Y4S1\\FYP\\CNN Pytorch\\Brain Tumor Data Set JPEG\\Brain Tumor\\Cancer (16).jpg\n",
      "Processing non-JPEG file: Cancer (17).tif\n",
      "Moving file to C:\\Users\\sherr\\Desktop\\NTU Y4S1\\FYP\\CNN Pytorch\\Brain Tumor Data Set JPEG\\Brain Tumor\\Cancer (17).jpg\n",
      "Processing non-JPEG file: Cancer (18).tif\n",
      "Moving file to C:\\Users\\sherr\\Desktop\\NTU Y4S1\\FYP\\CNN Pytorch\\Brain Tumor Data Set JPEG\\Brain Tumor\\Cancer (18).jpg\n",
      "Processing non-JPEG file: Cancer (19).tif\n",
      "Moving file to C:\\Users\\sherr\\Desktop\\NTU Y4S1\\FYP\\CNN Pytorch\\Brain Tumor Data Set JPEG\\Brain Tumor\\Cancer (19).jpg\n",
      "Processing non-JPEG file: Cancer (2).tif\n",
      "Moving file to C:\\Users\\sherr\\Desktop\\NTU Y4S1\\FYP\\CNN Pytorch\\Brain Tumor Data Set JPEG\\Brain Tumor\\Cancer (2).jpg\n",
      "Processing non-JPEG file: Cancer (20).tif\n",
      "Moving file to C:\\Users\\sherr\\Desktop\\NTU Y4S1\\FYP\\CNN Pytorch\\Brain Tumor Data Set JPEG\\Brain Tumor\\Cancer (20).jpg\n",
      "Processing non-JPEG file: Cancer (21).tif\n",
      "Moving file to C:\\Users\\sherr\\Desktop\\NTU Y4S1\\FYP\\CNN Pytorch\\Brain Tumor Data Set JPEG\\Brain Tumor\\Cancer (21).jpg\n",
      "Processing non-JPEG file: Cancer (22).tif\n",
      "Moving file to C:\\Users\\sherr\\Desktop\\NTU Y4S1\\FYP\\CNN Pytorch\\Brain Tumor Data Set JPEG\\Brain Tumor\\Cancer (22).jpg\n",
      "Processing non-JPEG file: Cancer (23).tif\n",
      "Moving file to C:\\Users\\sherr\\Desktop\\NTU Y4S1\\FYP\\CNN Pytorch\\Brain Tumor Data Set JPEG\\Brain Tumor\\Cancer (23).jpg\n",
      "Processing non-JPEG file: Cancer (24).tif\n",
      "Moving file to C:\\Users\\sherr\\Desktop\\NTU Y4S1\\FYP\\CNN Pytorch\\Brain Tumor Data Set JPEG\\Brain Tumor\\Cancer (24).jpg\n",
      "Processing non-JPEG file: Cancer (25).tif\n",
      "Moving file to C:\\Users\\sherr\\Desktop\\NTU Y4S1\\FYP\\CNN Pytorch\\Brain Tumor Data Set JPEG\\Brain Tumor\\Cancer (25).jpg\n",
      "Processing non-JPEG file: Cancer (26).tif\n",
      "Moving file to C:\\Users\\sherr\\Desktop\\NTU Y4S1\\FYP\\CNN Pytorch\\Brain Tumor Data Set JPEG\\Brain Tumor\\Cancer (26).jpg\n",
      "Processing non-JPEG file: Cancer (27).tif\n",
      "Moving file to C:\\Users\\sherr\\Desktop\\NTU Y4S1\\FYP\\CNN Pytorch\\Brain Tumor Data Set JPEG\\Brain Tumor\\Cancer (27).jpg\n",
      "Processing non-JPEG file: Cancer (28).tif\n",
      "Moving file to C:\\Users\\sherr\\Desktop\\NTU Y4S1\\FYP\\CNN Pytorch\\Brain Tumor Data Set JPEG\\Brain Tumor\\Cancer (28).jpg\n",
      "Processing non-JPEG file: Cancer (29).tif\n",
      "Moving file to C:\\Users\\sherr\\Desktop\\NTU Y4S1\\FYP\\CNN Pytorch\\Brain Tumor Data Set JPEG\\Brain Tumor\\Cancer (29).jpg\n",
      "Processing non-JPEG file: Cancer (3).tif\n",
      "Moving file to C:\\Users\\sherr\\Desktop\\NTU Y4S1\\FYP\\CNN Pytorch\\Brain Tumor Data Set JPEG\\Brain Tumor\\Cancer (3).jpg\n",
      "Processing non-JPEG file: Cancer (30).tif\n",
      "Moving file to C:\\Users\\sherr\\Desktop\\NTU Y4S1\\FYP\\CNN Pytorch\\Brain Tumor Data Set JPEG\\Brain Tumor\\Cancer (30).jpg\n",
      "Processing non-JPEG file: Cancer (31).tif\n",
      "Moving file to C:\\Users\\sherr\\Desktop\\NTU Y4S1\\FYP\\CNN Pytorch\\Brain Tumor Data Set JPEG\\Brain Tumor\\Cancer (31).jpg\n",
      "Processing non-JPEG file: Cancer (32).tif\n",
      "Moving file to C:\\Users\\sherr\\Desktop\\NTU Y4S1\\FYP\\CNN Pytorch\\Brain Tumor Data Set JPEG\\Brain Tumor\\Cancer (32).jpg\n",
      "Processing non-JPEG file: Cancer (33).tif\n",
      "Moving file to C:\\Users\\sherr\\Desktop\\NTU Y4S1\\FYP\\CNN Pytorch\\Brain Tumor Data Set JPEG\\Brain Tumor\\Cancer (33).jpg\n",
      "Processing non-JPEG file: Cancer (34).tif\n",
      "Moving file to C:\\Users\\sherr\\Desktop\\NTU Y4S1\\FYP\\CNN Pytorch\\Brain Tumor Data Set JPEG\\Brain Tumor\\Cancer (34).jpg\n",
      "Processing non-JPEG file: Cancer (35).tif\n",
      "Moving file to C:\\Users\\sherr\\Desktop\\NTU Y4S1\\FYP\\CNN Pytorch\\Brain Tumor Data Set JPEG\\Brain Tumor\\Cancer (35).jpg\n",
      "Processing non-JPEG file: Cancer (36).tif\n",
      "Moving file to C:\\Users\\sherr\\Desktop\\NTU Y4S1\\FYP\\CNN Pytorch\\Brain Tumor Data Set JPEG\\Brain Tumor\\Cancer (36).jpg\n",
      "Processing non-JPEG file: Cancer (37).tif\n",
      "Moving file to C:\\Users\\sherr\\Desktop\\NTU Y4S1\\FYP\\CNN Pytorch\\Brain Tumor Data Set JPEG\\Brain Tumor\\Cancer (37).jpg\n",
      "Processing non-JPEG file: Cancer (38).tif\n",
      "Moving file to C:\\Users\\sherr\\Desktop\\NTU Y4S1\\FYP\\CNN Pytorch\\Brain Tumor Data Set JPEG\\Brain Tumor\\Cancer (38).jpg\n",
      "Processing non-JPEG file: Cancer (39).tif\n",
      "Moving file to C:\\Users\\sherr\\Desktop\\NTU Y4S1\\FYP\\CNN Pytorch\\Brain Tumor Data Set JPEG\\Brain Tumor\\Cancer (39).jpg\n",
      "Processing non-JPEG file: Cancer (4).tif\n",
      "Moving file to C:\\Users\\sherr\\Desktop\\NTU Y4S1\\FYP\\CNN Pytorch\\Brain Tumor Data Set JPEG\\Brain Tumor\\Cancer (4).jpg\n",
      "Processing non-JPEG file: Cancer (40).tif\n",
      "Moving file to C:\\Users\\sherr\\Desktop\\NTU Y4S1\\FYP\\CNN Pytorch\\Brain Tumor Data Set JPEG\\Brain Tumor\\Cancer (40).jpg\n",
      "Processing non-JPEG file: Cancer (41).tif\n",
      "Moving file to C:\\Users\\sherr\\Desktop\\NTU Y4S1\\FYP\\CNN Pytorch\\Brain Tumor Data Set JPEG\\Brain Tumor\\Cancer (41).jpg\n",
      "Processing non-JPEG file: Cancer (42).tif\n",
      "Moving file to C:\\Users\\sherr\\Desktop\\NTU Y4S1\\FYP\\CNN Pytorch\\Brain Tumor Data Set JPEG\\Brain Tumor\\Cancer (42).jpg\n",
      "Processing non-JPEG file: Cancer (43).tif\n",
      "Moving file to C:\\Users\\sherr\\Desktop\\NTU Y4S1\\FYP\\CNN Pytorch\\Brain Tumor Data Set JPEG\\Brain Tumor\\Cancer (43).jpg\n",
      "Processing non-JPEG file: Cancer (44).tif\n",
      "Moving file to C:\\Users\\sherr\\Desktop\\NTU Y4S1\\FYP\\CNN Pytorch\\Brain Tumor Data Set JPEG\\Brain Tumor\\Cancer (44).jpg\n",
      "Processing non-JPEG file: Cancer (45).tif\n",
      "Moving file to C:\\Users\\sherr\\Desktop\\NTU Y4S1\\FYP\\CNN Pytorch\\Brain Tumor Data Set JPEG\\Brain Tumor\\Cancer (45).jpg\n",
      "Processing non-JPEG file: Cancer (46).tif\n",
      "Moving file to C:\\Users\\sherr\\Desktop\\NTU Y4S1\\FYP\\CNN Pytorch\\Brain Tumor Data Set JPEG\\Brain Tumor\\Cancer (46).jpg\n",
      "Processing non-JPEG file: Cancer (47).tif\n",
      "Moving file to C:\\Users\\sherr\\Desktop\\NTU Y4S1\\FYP\\CNN Pytorch\\Brain Tumor Data Set JPEG\\Brain Tumor\\Cancer (47).jpg\n",
      "Processing non-JPEG file: Cancer (48).tif\n",
      "Moving file to C:\\Users\\sherr\\Desktop\\NTU Y4S1\\FYP\\CNN Pytorch\\Brain Tumor Data Set JPEG\\Brain Tumor\\Cancer (48).jpg\n",
      "Processing non-JPEG file: Cancer (49).tif\n",
      "Moving file to C:\\Users\\sherr\\Desktop\\NTU Y4S1\\FYP\\CNN Pytorch\\Brain Tumor Data Set JPEG\\Brain Tumor\\Cancer (49).jpg\n",
      "Processing non-JPEG file: Cancer (5).tif\n",
      "Moving file to C:\\Users\\sherr\\Desktop\\NTU Y4S1\\FYP\\CNN Pytorch\\Brain Tumor Data Set JPEG\\Brain Tumor\\Cancer (5).jpg\n",
      "Processing non-JPEG file: Cancer (50).tif\n",
      "Moving file to C:\\Users\\sherr\\Desktop\\NTU Y4S1\\FYP\\CNN Pytorch\\Brain Tumor Data Set JPEG\\Brain Tumor\\Cancer (50).jpg\n",
      "Processing non-JPEG file: Cancer (51).tif\n",
      "Moving file to C:\\Users\\sherr\\Desktop\\NTU Y4S1\\FYP\\CNN Pytorch\\Brain Tumor Data Set JPEG\\Brain Tumor\\Cancer (51).jpg\n",
      "Processing non-JPEG file: Cancer (52).tif\n",
      "Moving file to C:\\Users\\sherr\\Desktop\\NTU Y4S1\\FYP\\CNN Pytorch\\Brain Tumor Data Set JPEG\\Brain Tumor\\Cancer (52).jpg\n",
      "Processing non-JPEG file: Cancer (53).tif\n",
      "Moving file to C:\\Users\\sherr\\Desktop\\NTU Y4S1\\FYP\\CNN Pytorch\\Brain Tumor Data Set JPEG\\Brain Tumor\\Cancer (53).jpg\n",
      "Processing non-JPEG file: Cancer (54).tif\n",
      "Moving file to C:\\Users\\sherr\\Desktop\\NTU Y4S1\\FYP\\CNN Pytorch\\Brain Tumor Data Set JPEG\\Brain Tumor\\Cancer (54).jpg\n",
      "Processing non-JPEG file: Cancer (55).tif\n",
      "Moving file to C:\\Users\\sherr\\Desktop\\NTU Y4S1\\FYP\\CNN Pytorch\\Brain Tumor Data Set JPEG\\Brain Tumor\\Cancer (55).jpg\n",
      "Processing non-JPEG file: Cancer (56).tif\n",
      "Moving file to C:\\Users\\sherr\\Desktop\\NTU Y4S1\\FYP\\CNN Pytorch\\Brain Tumor Data Set JPEG\\Brain Tumor\\Cancer (56).jpg\n",
      "Processing non-JPEG file: Cancer (57).tif\n",
      "Moving file to C:\\Users\\sherr\\Desktop\\NTU Y4S1\\FYP\\CNN Pytorch\\Brain Tumor Data Set JPEG\\Brain Tumor\\Cancer (57).jpg\n",
      "Processing non-JPEG file: Cancer (58).tif\n",
      "Moving file to C:\\Users\\sherr\\Desktop\\NTU Y4S1\\FYP\\CNN Pytorch\\Brain Tumor Data Set JPEG\\Brain Tumor\\Cancer (58).jpg\n",
      "Processing non-JPEG file: Cancer (59).tif\n",
      "Moving file to C:\\Users\\sherr\\Desktop\\NTU Y4S1\\FYP\\CNN Pytorch\\Brain Tumor Data Set JPEG\\Brain Tumor\\Cancer (59).jpg\n",
      "Processing non-JPEG file: Cancer (6).tif\n",
      "Moving file to C:\\Users\\sherr\\Desktop\\NTU Y4S1\\FYP\\CNN Pytorch\\Brain Tumor Data Set JPEG\\Brain Tumor\\Cancer (6).jpg\n",
      "Processing non-JPEG file: Cancer (60).tif\n",
      "Moving file to C:\\Users\\sherr\\Desktop\\NTU Y4S1\\FYP\\CNN Pytorch\\Brain Tumor Data Set JPEG\\Brain Tumor\\Cancer (60).jpg\n",
      "Processing non-JPEG file: Cancer (61).tif\n",
      "Moving file to C:\\Users\\sherr\\Desktop\\NTU Y4S1\\FYP\\CNN Pytorch\\Brain Tumor Data Set JPEG\\Brain Tumor\\Cancer (61).jpg\n",
      "Processing non-JPEG file: Cancer (62).tif\n",
      "Moving file to C:\\Users\\sherr\\Desktop\\NTU Y4S1\\FYP\\CNN Pytorch\\Brain Tumor Data Set JPEG\\Brain Tumor\\Cancer (62).jpg\n",
      "Processing non-JPEG file: Cancer (63).tif\n",
      "Moving file to C:\\Users\\sherr\\Desktop\\NTU Y4S1\\FYP\\CNN Pytorch\\Brain Tumor Data Set JPEG\\Brain Tumor\\Cancer (63).jpg\n",
      "Processing non-JPEG file: Cancer (64).tif\n",
      "Moving file to C:\\Users\\sherr\\Desktop\\NTU Y4S1\\FYP\\CNN Pytorch\\Brain Tumor Data Set JPEG\\Brain Tumor\\Cancer (64).jpg\n",
      "Processing non-JPEG file: Cancer (65).tif\n",
      "Moving file to C:\\Users\\sherr\\Desktop\\NTU Y4S1\\FYP\\CNN Pytorch\\Brain Tumor Data Set JPEG\\Brain Tumor\\Cancer (65).jpg\n",
      "Processing non-JPEG file: Cancer (66).tif\n",
      "Moving file to C:\\Users\\sherr\\Desktop\\NTU Y4S1\\FYP\\CNN Pytorch\\Brain Tumor Data Set JPEG\\Brain Tumor\\Cancer (66).jpg\n",
      "Processing non-JPEG file: Cancer (67).tif\n",
      "Moving file to C:\\Users\\sherr\\Desktop\\NTU Y4S1\\FYP\\CNN Pytorch\\Brain Tumor Data Set JPEG\\Brain Tumor\\Cancer (67).jpg\n",
      "Processing non-JPEG file: Cancer (68).tif\n",
      "Moving file to C:\\Users\\sherr\\Desktop\\NTU Y4S1\\FYP\\CNN Pytorch\\Brain Tumor Data Set JPEG\\Brain Tumor\\Cancer (68).jpg\n",
      "Processing non-JPEG file: Cancer (69).tif\n",
      "Moving file to C:\\Users\\sherr\\Desktop\\NTU Y4S1\\FYP\\CNN Pytorch\\Brain Tumor Data Set JPEG\\Brain Tumor\\Cancer (69).jpg\n",
      "Processing non-JPEG file: Cancer (7).tif\n",
      "Moving file to C:\\Users\\sherr\\Desktop\\NTU Y4S1\\FYP\\CNN Pytorch\\Brain Tumor Data Set JPEG\\Brain Tumor\\Cancer (7).jpg\n",
      "Processing non-JPEG file: Cancer (70).tif\n",
      "Moving file to C:\\Users\\sherr\\Desktop\\NTU Y4S1\\FYP\\CNN Pytorch\\Brain Tumor Data Set JPEG\\Brain Tumor\\Cancer (70).jpg\n",
      "Processing non-JPEG file: Cancer (71).tif\n",
      "Moving file to C:\\Users\\sherr\\Desktop\\NTU Y4S1\\FYP\\CNN Pytorch\\Brain Tumor Data Set JPEG\\Brain Tumor\\Cancer (71).jpg\n",
      "Processing non-JPEG file: Cancer (72).tif\n",
      "Moving file to C:\\Users\\sherr\\Desktop\\NTU Y4S1\\FYP\\CNN Pytorch\\Brain Tumor Data Set JPEG\\Brain Tumor\\Cancer (72).jpg\n",
      "Processing non-JPEG file: Cancer (73).tif\n",
      "Moving file to C:\\Users\\sherr\\Desktop\\NTU Y4S1\\FYP\\CNN Pytorch\\Brain Tumor Data Set JPEG\\Brain Tumor\\Cancer (73).jpg\n",
      "Processing non-JPEG file: Cancer (74).tif\n",
      "Moving file to C:\\Users\\sherr\\Desktop\\NTU Y4S1\\FYP\\CNN Pytorch\\Brain Tumor Data Set JPEG\\Brain Tumor\\Cancer (74).jpg\n",
      "Processing non-JPEG file: Cancer (75).tif\n",
      "Moving file to C:\\Users\\sherr\\Desktop\\NTU Y4S1\\FYP\\CNN Pytorch\\Brain Tumor Data Set JPEG\\Brain Tumor\\Cancer (75).jpg\n",
      "Processing non-JPEG file: Cancer (76).tif\n",
      "Moving file to C:\\Users\\sherr\\Desktop\\NTU Y4S1\\FYP\\CNN Pytorch\\Brain Tumor Data Set JPEG\\Brain Tumor\\Cancer (76).jpg\n",
      "Processing non-JPEG file: Cancer (77).tif\n",
      "Moving file to C:\\Users\\sherr\\Desktop\\NTU Y4S1\\FYP\\CNN Pytorch\\Brain Tumor Data Set JPEG\\Brain Tumor\\Cancer (77).jpg\n",
      "Processing non-JPEG file: Cancer (78).tif\n",
      "Moving file to C:\\Users\\sherr\\Desktop\\NTU Y4S1\\FYP\\CNN Pytorch\\Brain Tumor Data Set JPEG\\Brain Tumor\\Cancer (78).jpg\n",
      "Processing non-JPEG file: Cancer (79).tif\n",
      "Moving file to C:\\Users\\sherr\\Desktop\\NTU Y4S1\\FYP\\CNN Pytorch\\Brain Tumor Data Set JPEG\\Brain Tumor\\Cancer (79).jpg\n",
      "Processing non-JPEG file: Cancer (8).tif\n",
      "Moving file to C:\\Users\\sherr\\Desktop\\NTU Y4S1\\FYP\\CNN Pytorch\\Brain Tumor Data Set JPEG\\Brain Tumor\\Cancer (8).jpg\n",
      "Processing non-JPEG file: Cancer (80).tif\n",
      "Moving file to C:\\Users\\sherr\\Desktop\\NTU Y4S1\\FYP\\CNN Pytorch\\Brain Tumor Data Set JPEG\\Brain Tumor\\Cancer (80).jpg\n",
      "Processing non-JPEG file: Cancer (81).tif\n",
      "Moving file to C:\\Users\\sherr\\Desktop\\NTU Y4S1\\FYP\\CNN Pytorch\\Brain Tumor Data Set JPEG\\Brain Tumor\\Cancer (81).jpg\n",
      "Processing non-JPEG file: Cancer (82).tif\n",
      "Moving file to C:\\Users\\sherr\\Desktop\\NTU Y4S1\\FYP\\CNN Pytorch\\Brain Tumor Data Set JPEG\\Brain Tumor\\Cancer (82).jpg\n",
      "Processing non-JPEG file: Cancer (83).tif\n",
      "Moving file to C:\\Users\\sherr\\Desktop\\NTU Y4S1\\FYP\\CNN Pytorch\\Brain Tumor Data Set JPEG\\Brain Tumor\\Cancer (83).jpg\n",
      "Processing non-JPEG file: Cancer (84).tif\n",
      "Moving file to C:\\Users\\sherr\\Desktop\\NTU Y4S1\\FYP\\CNN Pytorch\\Brain Tumor Data Set JPEG\\Brain Tumor\\Cancer (84).jpg\n",
      "Processing non-JPEG file: Cancer (85).tif\n",
      "Moving file to C:\\Users\\sherr\\Desktop\\NTU Y4S1\\FYP\\CNN Pytorch\\Brain Tumor Data Set JPEG\\Brain Tumor\\Cancer (85).jpg\n",
      "Processing non-JPEG file: Cancer (86).tif\n",
      "Moving file to C:\\Users\\sherr\\Desktop\\NTU Y4S1\\FYP\\CNN Pytorch\\Brain Tumor Data Set JPEG\\Brain Tumor\\Cancer (86).jpg\n",
      "Processing non-JPEG file: Cancer (9).tif\n",
      "Moving file to C:\\Users\\sherr\\Desktop\\NTU Y4S1\\FYP\\CNN Pytorch\\Brain Tumor Data Set JPEG\\Brain Tumor\\Cancer (9).jpg\n",
      "Processing non-JPEG file: Not Cancer  (1).png\n",
      "Moving file to C:\\Users\\sherr\\Desktop\\NTU Y4S1\\FYP\\CNN Pytorch\\Brain Tumor Data Set JPEG\\Healthy\\Not Cancer  (1).jpg\n"
     ]
    },
    {
     "name": "stderr",
     "output_type": "stream",
     "text": [
      "Copying files: 4512 files [00:49, 91.07 files/s] "
     ]
    },
    {
     "name": "stdout",
     "output_type": "stream",
     "text": [
      "Number of files in training directory: 4472\n",
      "Number of files in validation directory: 2186\n"
     ]
    },
    {
     "name": "stderr",
     "output_type": "stream",
     "text": [
      "\n"
     ]
    }
   ],
   "source": [
    "import os\n",
    "import shutil\n",
    "from PIL import Image\n",
    "import pathlib\n",
    "import splitfolders\n",
    "\n",
    "# Function to convert non-JPEG images to JPEG format and organize them into class subdirectories\n",
    "def convert_images_and_organize(input_dir, output_dir):\n",
    "    # Ensure the output directory exists\n",
    "    os.makedirs(output_dir, exist_ok=True)\n",
    "    \n",
    "    # Define class subdirectories in the output directory\n",
    "    healthy_output_dir = os.path.join(output_dir, \"Healthy\")\n",
    "    tumor_output_dir = os.path.join(output_dir, \"Brain Tumor\")\n",
    "    os.makedirs(healthy_output_dir, exist_ok=True)\n",
    "    os.makedirs(tumor_output_dir, exist_ok=True)\n",
    "    \n",
    "    # Iterate through all files in the input directory\n",
    "    for root, dirs, files in os.walk(input_dir):\n",
    "        for filename in files:\n",
    "            if filename.lower().endswith((\".jpg\", \".jpeg\")):\n",
    "                print(f\"Processing JPEG file: {filename}\")\n",
    "                # Determine the class of the image based on its directory\n",
    "                if \"healthy\" in root.lower() or any(\"healthy\" in d.lower() for d in dirs):\n",
    "                    # Move the JPEG image to the Healthy subdirectory\n",
    "                    src_path = os.path.join(root, filename)\n",
    "                    dest_path = os.path.join(healthy_output_dir, filename)\n",
    "                    print(f\"Moving file to {dest_path}\")\n",
    "                    shutil.move(src_path, dest_path)\n",
    "                elif \"tumor\" in root.lower() or any(\"tumor\" in d.lower() for d in dirs):\n",
    "                    # Move the JPEG image to the Brain Tumor subdirectory\n",
    "                    src_path = os.path.join(root, filename)\n",
    "                    dest_path = os.path.join(tumor_output_dir, filename)\n",
    "                    print(f\"Moving file to {dest_path}\")\n",
    "                    shutil.move(src_path, dest_path)\n",
    "                else:\n",
    "                    print(f\"Warning: Unrecognized class for file {filename}\")\n",
    "            else:\n",
    "                try:\n",
    "                    print(f\"Processing non-JPEG file: {filename}\")\n",
    "                    # Open the image\n",
    "                    img_path = os.path.join(root, filename)\n",
    "                    img = Image.open(img_path)\n",
    "                    \n",
    "                    # Convert the image to JPEG format\n",
    "                    jpeg_path = os.path.join(output_dir, os.path.splitext(filename)[0] + \".jpg\")\n",
    "                    img.convert(\"RGB\").save(jpeg_path, \"JPEG\")\n",
    "                    \n",
    "                    # Determine the class of the image based on its directory\n",
    "                    if \"healthy\" in root.lower() or any(\"healthy\" in d.lower() for d in dirs):\n",
    "                        # Move the JPEG image to the Healthy subdirectory\n",
    "                        dest_path = os.path.join(healthy_output_dir, os.path.basename(jpeg_path))\n",
    "                        print(f\"Moving file to {dest_path}\")\n",
    "                        shutil.move(jpeg_path, dest_path)\n",
    "                    elif \"tumor\" in root.lower() or any(\"tumor\" in d.lower() for d in dirs):\n",
    "                        # Move the JPEG image to the Brain Tumor subdirectory\n",
    "                        dest_path = os.path.join(tumor_output_dir, os.path.basename(jpeg_path))\n",
    "                        print(f\"Moving file to {dest_path}\")\n",
    "                        shutil.move(jpeg_path, dest_path)\n",
    "                    else:\n",
    "                        print(f\"Warning: Unrecognized class for file {filename}\")\n",
    "                except Exception as e:\n",
    "                    print(f\"Error processing file {filename}: {e}\")\n",
    "\n",
    "# Specify the paths for input directory and output directory\n",
    "input_dir = 'C:\\\\Users\\\\sherr\\\\Desktop\\\\NTU Y4S1\\\\FYP\\\\CNN Pytorch\\\\Brain Tumor Data Set'\n",
    "output_dir = 'C:\\\\Users\\\\sherr\\\\Desktop\\\\NTU Y4S1\\\\FYP\\\\CNN Pytorch\\\\Brain Tumor Data Set JPEG'\n",
    "\n",
    "# Convert non-JPEG images to JPEG format and organize them into class subdirectories\n",
    "convert_images_and_organize(input_dir, output_dir)\n",
    "\n",
    "# After conversion, update the data directory path\n",
    "data_dir_jpeg = pathlib.Path(output_dir)\n",
    "\n",
    "# Define the new directories for training and validation sets\n",
    "train_dir = 'C:\\\\Users\\\\sherr\\\\Desktop\\\\NTU Y4S1\\\\FYP\\\\CNN Pytorch\\\\brain\\\\train'\n",
    "val_dir = 'C:\\\\Users\\\\sherr\\\\Desktop\\\\NTU Y4S1\\\\FYP\\\\CNN Pytorch\\\\brain\\\\val'\n",
    "\n",
    "# Filter out non-JPEG files from the training and validation directories\n",
    "for directory in [train_dir, val_dir]:\n",
    "    for root, dirs, files in os.walk(directory):\n",
    "        for file in files:\n",
    "            if not file.lower().endswith((\".jpg\", \".jpeg\")):\n",
    "                os.remove(os.path.join(root, file))\n",
    "\n",
    "# Split the dataset into train, validation, and test sets\n",
    "splitfolders.ratio(data_dir_jpeg, output='C:\\\\Users\\\\sherr\\\\Desktop\\\\NTU Y4S1\\\\FYP\\\\CNN Pytorch\\\\brain', seed=20, ratio=(0.8, 0.2))\n",
    "\n",
    "# Print out the number of files in the training and validation directories\n",
    "train_file_count = sum(len(files) for _, _, files in os.walk(train_dir))\n",
    "val_file_count = sum(len(files) for _, _, files in os.walk(val_dir))\n",
    "print(f\"Number of files in training directory: {train_file_count}\")\n",
    "print(f\"Number of files in validation directory: {val_file_count}\")\n"
   ]
  },
  {
   "cell_type": "markdown",
   "id": "8ddfb2ad",
   "metadata": {},
   "source": [
    "# Conversion into binary image\n",
    "Convert the gray-scale image into binary image by processing the image with a threshold value: pixels equal to or lower than 127 will be pushed down to 0 and greater will be pushed up to 255. Such process is compulsory as later transformation processes takes in binary images."
   ]
  },
  {
   "cell_type": "code",
   "execution_count": 6,
   "id": "816db8c3",
   "metadata": {},
   "outputs": [],
   "source": [
    "def binarization(x):\n",
    "    return torch.where(x >= 0.5, torch.tensor(1.0), torch.tensor(0.0))"
   ]
  },
  {
   "cell_type": "markdown",
   "id": "e0a6e188",
   "metadata": {},
   "source": [
    "# Image Augmentation\n",
    "\n",
    "Prepares images for consumption by a neural network model. It first resizes the images to a fixed size, then applies random augmentations such as horizontal and vertical flipping, and random rotation to increase the diversity of the training data. Finally, it converts the images to PyTorch tensors and normalizes them using precomputed mean and standard deviation values to ensure consistent training."
   ]
  },
  {
   "cell_type": "code",
   "execution_count": 7,
   "id": "76ffe32e",
   "metadata": {},
   "outputs": [],
   "source": [
    "# Define the transformation pipeline for both training and validation sets\n",
    "train_transform = transforms.Compose([\n",
    "    transforms.Resize((256, 256)),\n",
    "    transforms.RandomHorizontalFlip(),\n",
    "    transforms.RandomVerticalFlip(),\n",
    "    transforms.RandomRotation(30),\n",
    "    transforms.Grayscale(num_output_channels=1),  # Convert to single-channel grayscale\n",
    "    transforms.ToTensor(),\n",
    "    transforms.Normalize(mean=[0.485], std=[0.229]),  # Normalize\n",
    "    transforms.Lambda(binarization)  # Apply binarization\n",
    "])\n",
    "\n",
    "val_transform = transforms.Compose([\n",
    "    transforms.Resize((256, 256)),\n",
    "    transforms.Grayscale(num_output_channels=1),\n",
    "    transforms.ToTensor(),\n",
    "    transforms.Normalize(mean=[0.485], std=[0.229]),\n",
    "    transforms.Lambda(binarization)\n",
    "])"
   ]
  },
  {
   "cell_type": "markdown",
   "id": "8ae5468f",
   "metadata": {},
   "source": [
    "# Define custom dataset objects\n",
    "\n",
    "This code sets up custom dataset objects for training and validation data using the ImageFolder class from torchvision.datasets. It loads images from specified directories (train and val directories within data_dir) and applies the transformation pipeline (transform=transform) defined earlier to preprocess the images. The transform parameter ensures that the same transformations are applied consistently to both training and validation data, which is crucial for maintaining consistency during model training and evaluation."
   ]
  },
  {
   "cell_type": "code",
   "execution_count": 8,
   "id": "670588a7",
   "metadata": {},
   "outputs": [],
   "source": [
    "# Define the custom dataset class\n",
    "class CustomDataset(torch.utils.data.Dataset):\n",
    "    def __init__(self, root_dir, transform=None):\n",
    "        self.root_dir = root_dir\n",
    "        self.transform = transform\n",
    "        self.data = torchvision.datasets.ImageFolder(root=root_dir, transform=self.transform)\n",
    "        \n",
    "    def __len__(self):\n",
    "        return len(self.data)\n",
    "    \n",
    "    def __getitem__(self, idx):\n",
    "        img, label = self.data[idx]\n",
    "        return img, label\n",
    "\n",
    "# Create custom dataset objects for training and validation\n",
    "train_set = CustomDataset(train_dir, transform=train_transform)\n",
    "val_set = CustomDataset(val_dir, transform=val_transform)"
   ]
  },
  {
   "cell_type": "code",
   "execution_count": 9,
   "id": "eacfe0d9",
   "metadata": {
    "scrolled": true
   },
   "outputs": [
    {
     "name": "stdout",
     "output_type": "stream",
     "text": [
      "Transformation pipeline applied to the training set:\n",
      "Compose(\n",
      "    Resize(size=(256, 256), interpolation=bilinear, max_size=None, antialias=True)\n",
      "    RandomHorizontalFlip(p=0.5)\n",
      "    RandomVerticalFlip(p=0.5)\n",
      "    RandomRotation(degrees=[-30.0, 30.0], interpolation=nearest, expand=False, fill=0)\n",
      "    Grayscale(num_output_channels=1)\n",
      "    ToTensor()\n",
      "    Normalize(mean=[0.485], std=[0.229])\n",
      "    Lambda()\n",
      ")\n",
      "\n",
      "Transformation pipeline applied to the validation set:\n",
      "Compose(\n",
      "    Resize(size=(256, 256), interpolation=bilinear, max_size=None, antialias=True)\n",
      "    Grayscale(num_output_channels=1)\n",
      "    ToTensor()\n",
      "    Normalize(mean=[0.485], std=[0.229])\n",
      "    Lambda()\n",
      ")\n"
     ]
    }
   ],
   "source": [
    "# # Define the custom dataset objects for training and validation\n",
    "# train_set = torchvision.datasets.ImageFolder(train_dir, transform=transform)\n",
    "# val_set = torchvision.datasets.ImageFolder(val_dir, transform=transform)\n",
    "\n",
    "# Print out the transformation pipeline applied to the training set\n",
    "print(\"Transformation pipeline applied to the training set:\")\n",
    "print(train_set.transform)\n",
    "\n",
    "# Print out the transformation pipeline applied to the validation set\n",
    "print(\"\\nTransformation pipeline applied to the validation set:\")\n",
    "print(val_set.transform)\n",
    "\n"
   ]
  },
  {
   "cell_type": "markdown",
   "id": "19eb1651",
   "metadata": {},
   "source": [
    "# Visualization of images\n",
    "\n",
    "This code segment visualizes a set of random images from the training dataset. It iterates through a grid of subplots, selects random samples from the training dataset, retrieves their corresponding labels, and displays them with their class names as titles. The images are converted from PyTorch tensors to NumPy arrays for visualization, and their pixel values are clipped to ensure they fall within the valid range of [0, 1]. Finally, the overall title of the plot is set to \"Brain Images\"."
   ]
  },
  {
   "cell_type": "code",
   "execution_count": 10,
   "id": "da2baac2",
   "metadata": {
    "scrolled": false
   },
   "outputs": [
    {
     "name": "stdout",
     "output_type": "stream",
     "text": [
      "Total images in train_set: 4472\n",
      "Binarized images in train_set: 4454\n",
      "Non-binarized images in train_set: 18\n"
     ]
    },
    {
     "data": {
      "image/png": "[encoded data removed]",
      "text/plain": [
       "<Figure size 720x720 with 16 Axes>"
      ]
     },
     "metadata": {},
     "output_type": "display_data"
    }
   ],
   "source": [
    "# Dictionary to map class labels to their corresponding class names\n",
    "CLA_label = {\n",
    "    0 : 'Brain Tumor',\n",
    "    1 : 'Healthy'\n",
    "} \n",
    "\n",
    "# Define a function to check if an image is binarized\n",
    "def is_binarized(img):\n",
    "    unique_values = torch.unique(img)\n",
    "    return len(unique_values) == 2\n",
    "\n",
    "# Count the number of binarized and non-binarized images in the training set\n",
    "binarized_count = 0\n",
    "total_count = len(train_set)\n",
    "\n",
    "# Iterate through the training set to check for binarization\n",
    "for i in range(total_count):\n",
    "    img, _ = train_set[i]\n",
    "    if is_binarized(img):\n",
    "        binarized_count += 1\n",
    "\n",
    "# Print out the summary\n",
    "print(f\"Total images in train_set: {total_count}\")\n",
    "print(f\"Binarized images in train_set: {binarized_count}\")\n",
    "print(f\"Non-binarized images in train_set: {total_count - binarized_count}\")\n",
    "\n",
    "# Create a new figure for plotting with a specified size\n",
    "figure = plt.figure(figsize=(10, 10))\n",
    "\n",
    "# Define the number of columns and rows for subplots\n",
    "cols, rows = 4, 4\n",
    "\n",
    "# Loop to generate subplots for visualizing images\n",
    "for i in range(1, cols * rows + 1):\n",
    "    # Generate a random sample index within the range of the training set\n",
    "    sample_idx = torch.randint(len(train_set), size=(1,)).item()\n",
    "    \n",
    "    # Retrieve the image and its corresponding label using the sample index\n",
    "    img, label = train_set[sample_idx]\n",
    "    \n",
    "    # Check if the image is binarized\n",
    "    binarized = is_binarized(img)\n",
    "    \n",
    "    # If the image is not binarized, skip to the next iteration\n",
    "    if not binarized:\n",
    "        continue\n",
    "    \n",
    "    # Add a subplot to the figure\n",
    "    figure.add_subplot(rows, cols, i)\n",
    "    \n",
    "    # Set the title of the subplot to the corresponding class name\n",
    "    plt.title(f'{CLA_label[label]} (Binarized: {binarized})')\n",
    "    \n",
    "    # Turn off axis labels for cleaner visualization\n",
    "    plt.axis(\"off\")\n",
    "    \n",
    "    # Convert the PyTorch tensor image to a NumPy array and transpose its dimensions\n",
    "    img_np = img.numpy()\n",
    "    \n",
    "    # Clip pixel values to the valid range of [0, 1]\n",
    "    img_valid_range = np.clip(img_np, 0, 1)\n",
    "    \n",
    "    # Display the image in the subplot\n",
    "    plt.imshow(img_np.squeeze(), cmap='gray')\n",
    "    \n",
    "    # Set the overall title for the plot\n",
    "    plt.suptitle('Brain Images', y=0.95)\n",
    "\n",
    "# Show the plot with all the subplots\n",
    "plt.show()\n"
   ]
  },
  {
   "cell_type": "markdown",
   "id": "b0b474b7",
   "metadata": {},
   "source": [
    "In this code, DataLoader is used from the torch.utils.data module to create iterators for loading batches of data from the training and validation sets. These iterators will be used during the training and evaluation of a neural network model. The batch_size parameter determines the number of samples in each batch, and shuffle is set to True to shuffle the data at the beginning of each epoch to improve training effectiveness. The num_workers parameter specifies the number of subprocesses to use for data loading, which can speed up data loading by utilizing multiple CPU cores."
   ]
  },
  {
   "cell_type": "code",
   "execution_count": 11,
   "id": "3257ed29",
   "metadata": {},
   "outputs": [],
   "source": [
    "# Define the batch size for loading data\n",
    "batch_size = 64\n",
    "\n",
    "# Create a DataLoader for the training set\n",
    "# DataLoader is used to load batches of data from the dataset during training\n",
    "# train_set: the dataset to load\n",
    "# batch_size: number of samples in each batch\n",
    "# shuffle: set to True to shuffle the data at every epoch\n",
    "# num_workers: number of subprocesses to use for data loading\n",
    "# pin_memory: set to True if using CUDA tensors for faster data transfer to GPU\n",
    "train_loader = torch.utils.data.DataLoader(train_set, batch_size=batch_size, shuffle=True)\n",
    "\n",
    "# Create a DataLoader for the validation set\n",
    "# Similar to train_loader, but loads data from the validation set\n",
    "val_loader = torch.utils.data.DataLoader(val_set, batch_size=batch_size, shuffle=True)"
   ]
  },
  {
   "cell_type": "code",
   "execution_count": 12,
   "id": "37896f1d",
   "metadata": {},
   "outputs": [
    {
     "name": "stdout",
     "output_type": "stream",
     "text": [
      "Shape of the train images array: (4472, 1, 256, 256)\n",
      "Shape of the validation images array: (2186, 1, 256, 256)\n"
     ]
    }
   ],
   "source": [
    "input_arr_train = np.concatenate([sample[0] for sample in train_loader])\n",
    "input_arr_val = np.concatenate([sample[0] for sample in val_loader])\n",
    "\n",
    "# Print the shape of the resulting arrays\n",
    "print(\"Shape of the train images array:\", input_arr_train.shape)\n",
    "print(\"Shape of the validation images array:\", input_arr_val.shape)"
   ]
  },
  {
   "cell_type": "code",
   "execution_count": 13,
   "id": "1daba9d0",
   "metadata": {},
   "outputs": [],
   "source": [
    "# import csv\n",
    "# import numpy as np\n",
    "\n",
    "# def readData():\n",
    "#     try:\n",
    "#         ex_data = []\n",
    "#         with open(\"metadata.csv\", newline='') as csvfile:\n",
    "#             reader = csv.reader(csvfile)\n",
    "#             for row in reader:\n",
    "#                 # Assuming the first column contains the data you need\n",
    "#                 # You may need to adjust the index based on your CSV structure\n",
    "#                 # Assuming the values are stored as strings like \"(300, 240, 3)\"\n",
    "#                 # Remove the parentheses and split by comma to get individual values\n",
    "#                 values = row[0].strip(\"()\").split(\",\")\n",
    "#                 # Convert values to integers, skipping empty strings\n",
    "#                 values = [int(v.strip()) for v in values if v.strip()]\n",
    "#                 # Convert the list of values to a tuple and append to ex_data\n",
    "#                 ex_data.append(tuple(values))\n",
    "#         return np.array(ex_data)\n",
    "#     except Exception as e:\n",
    "#         print(f\"Error reading metadata: {e}\")\n",
    "#         return None\n",
    "\n",
    "\n",
    "# def rcImgProcessLs(input_arr_train, ex_data=readData(), img_height=256, img_width=256):\n",
    "#     datasets_N = np.shape(input_arr_train)[0] # Number of images in the train dataset\n",
    "\n",
    "#     output_arr = np.zeros((datasets_N, int(img_height * img_width)), dtype=np.float32)\n",
    "\n",
    "#     for k in range(datasets_N):\n",
    "#         img = input_arr_train[k]\n",
    "#         img = np.reshape(img, (img_height, img_width))  # Reshape the image if necessary\n",
    "#         for i in range(0, img_height * img_width, 3):\n",
    "#             id = int(img[i + 2] + 2 * img[i + 1] + 4 * img[i])\n",
    "#             output_arr[k] = ex_data[id]\n",
    "\n",
    "#     print(\"Finished reservoir computing (lineshape) using experimental memristive devices on 60000 training data and 10000 test data\")\n",
    "\n",
    "#     return output_arr"
   ]
  },
  {
   "cell_type": "code",
   "execution_count": 14,
   "id": "54443a49",
   "metadata": {},
   "outputs": [],
   "source": [
    "import os\n",
    "\n",
    "def readData(*data_paths):\n",
    "    ex_data = {}\n",
    "    for data_path in data_paths:\n",
    "        # Iterate through each data path\n",
    "        for root, dirs, files in os.walk(data_path):\n",
    "            for file in files:\n",
    "                # Assuming each image file's name contains the experimental data\n",
    "                # Extract the relevant information from the file name\n",
    "                # For example, if the filename is 'image_001_experiment_0.jpg', you can extract '0'\n",
    "                filename_parts = file.split('_')\n",
    "                if len(filename_parts) >= 3 and filename_parts[-1].endswith('.jpg'):\n",
    "                    # Extract the experiment data (assuming it's the last part of the filename)\n",
    "                    experiment_data = int(filename_parts[-2])  # Adjust the index based on your filename structure\n",
    "                    # Use the filename (without extension) as the key and experiment data as the value\n",
    "                    filename = os.path.splitext(file)[0]\n",
    "                    ex_data[filename] = experiment_data\n",
    "    return ex_data\n",
    "\n",
    "train_data_path = train_dir\n",
    "val_data_path = val_dir\n",
    "\n",
    "ex_data_train = readData(train_data_path)\n",
    "ex_data_val = readData(val_data_path)\n"
   ]
  },
  {
   "cell_type": "code",
   "execution_count": 35,
   "id": "e689cdd2",
   "metadata": {},
   "outputs": [],
   "source": [
    "def rcImgProcessLs(input_arr_train, ex_data=readData(), img_height=256, img_width=256, channels=1):\n",
    "    try:\n",
    "        datasets_N = np.shape(input_arr_train)[0]  # The number of images in the train & test dataset\n",
    "        output_arr = np.zeros((datasets_N, channels, img_height, img_width), dtype=np.float32)  # The output array definition\n",
    "\n",
    "        for k in range(datasets_N):\n",
    "            # Assign class labels based on filename pattern\n",
    "            filename = \"Cancer\" if k % 2 == 0 else \"Not Cancer\"\n",
    "            if filename in ex_data:\n",
    "                # Access experimental data corresponding to the filename\n",
    "                experiment_data = ex_data[filename]\n",
    "                for i in range(0, img_height * img_width, 3):\n",
    "                    id = int(input_arr_train[k, i + 2] + 2 * input_arr_train[k, i + 1] + 4 * input_arr_train[k, i])\n",
    "                    # Calculate the row and column indices in the reshaped array\n",
    "                    row_idx = i // (img_width * 3)\n",
    "                    col_idx = (i // 3) % img_width\n",
    "                    output_arr[k, :, row_idx, col_idx] = experiment_data[id]\n",
    "\n",
    "        print(\"Finished reservoir computing (lineshape) using experimental memristive devices on training data\")\n",
    "\n",
    "        return output_arr\n",
    "    except Exception as e:\n",
    "        print(f\"Error processing images: {e}\")\n",
    "        return None\n"
   ]
  },
  {
   "cell_type": "code",
   "execution_count": 36,
   "id": "955a6e3e",
   "metadata": {},
   "outputs": [
    {
     "name": "stdout",
     "output_type": "stream",
     "text": [
      "Finished reservoir computing (lineshape) using experimental memristive devices on training data\n",
      "Finished reservoir computing (lineshape) using experimental memristive devices on training data\n",
      "Shape of the processed train images array: (4472, 1, 256, 256)\n",
      "Shape of the processed validation images array: (2186, 1, 256, 256)\n"
     ]
    }
   ],
   "source": [
    "# Call rcImgProcessLs() function after loading train images\n",
    "processed_train_images = rcImgProcessLs(input_arr_train)\n",
    "\n",
    "# Call rcImgProcessLs() function after loading validation images\n",
    "processed_val_images = rcImgProcessLs(input_arr_val)\n",
    "\n",
    "# Print the shape of the resulting processed arrays\n",
    "print(\"Shape of the processed train images array:\", processed_train_images.shape)\n",
    "print(\"Shape of the processed validation images array:\", processed_val_images.shape)\n"
   ]
  },
  {
   "cell_type": "code",
   "execution_count": 17,
   "id": "61dd8654",
   "metadata": {},
   "outputs": [],
   "source": [
    "import torch\n",
    "\n",
    "class CustomProcessDataset(Dataset):\n",
    "    def __init__(self, processed_images, ex_data, transform=None):\n",
    "        self.processed_images = processed_images\n",
    "        self.ex_data = ex_data\n",
    "        self.transform = transform\n",
    "\n",
    "    def __len__(self):\n",
    "        return len(self.processed_images)\n",
    "\n",
    "    def __getitem__(self, idx):\n",
    "        image = self.processed_images[idx]\n",
    "        filename = \"Cancer\" if idx % 2 == 0 else \"Not Cancer\"\n",
    "        label = self.ex_data.get(filename, 1)  # Assign class label based on filename\n",
    "        if self.transform:\n",
    "            image = self.transform(image)\n",
    "        return image, label\n",
    "\n",
    "\n",
    "# Convert numpy arrays to PyTorch tensors\n",
    "processed_train_tensor = CustomProcessDataset(processed_train_images, ex_data_train)\n",
    "processed_val_tensor = CustomProcessDataset(processed_val_images, ex_data_val)\n",
    "\n",
    "\n",
    "# Create DataLoader objects for processed train and validation tensors\n",
    "batch_size = 64\n",
    "processed_train_loader = torch.utils.data.DataLoader(processed_train_tensor, batch_size=batch_size, shuffle=True)\n",
    "processed_val_loader = torch.utils.data.DataLoader(processed_val_tensor, batch_size=batch_size, shuffle=False)\n"
   ]
  },
  {
   "cell_type": "code",
   "execution_count": 18,
   "id": "34643352",
   "metadata": {},
   "outputs": [
    {
     "name": "stdout",
     "output_type": "stream",
     "text": [
      "Range of class labels: 1 - 1\n",
      "Total number of unique class labels: 1\n"
     ]
    }
   ],
   "source": [
    "# Assuming your dataset is accessible via train_loader\n",
    "unique_labels = set()  # Create an empty set to store unique class labels\n",
    "\n",
    "# Iterate over the dataset to collect unique class labels\n",
    "for _, target in processed_train_loader:\n",
    "    unique_labels.update(target.tolist())  # Convert tensor to list and update the set\n",
    "\n",
    "# Print the range and total number of unique class labels\n",
    "print(\"Range of class labels:\", min(unique_labels), \"-\", max(unique_labels))\n",
    "print(\"Total number of unique class labels:\", len(unique_labels))\n"
   ]
  },
  {
   "cell_type": "markdown",
   "id": "1d956891",
   "metadata": {},
   "source": [
    "This code iterates over the dictionary containing keys \"Training data\" and \"Validation data\", where the values are DataLoader objects (train_loader and val_loader). For each DataLoader, it iterates over batches of data, extracting input data (X) and labels (y). For each batch, it prints the key indicating whether it's training or validation data, as well as the shape of the input data (X) and the shape and data type of the labels (y). The break statement is used to exit the inner loop after processing the first batch, ensuring that only one batch of data is printed for each DataLoader."
   ]
  },
  {
   "cell_type": "code",
   "execution_count": 19,
   "id": "af54329a",
   "metadata": {},
   "outputs": [
    {
     "name": "stdout",
     "output_type": "stream",
     "text": [
      "Training data:\n",
      "Number of images in the batch: torch.Size([64, 1, 256, 256])\n",
      "Number of labels in the batch: torch.Size([64])\n"
     ]
    }
   ],
   "source": [
    "# Check the first batch from processed_train_loader\n",
    "for X, y in processed_train_loader:\n",
    "    print(\"Training data:\")\n",
    "    print(f\"Number of images in the batch: {X.shape}\")\n",
    "    print(f\"Number of labels in the batch: {y.shape}\")\n",
    "    break  # Break after printing the first batch\n"
   ]
  },
  {
   "cell_type": "code",
   "execution_count": 20,
   "id": "30cc9ac6",
   "metadata": {},
   "outputs": [
    {
     "name": "stdout",
     "output_type": "stream",
     "text": [
      "Training data:\n",
      "Shape of X : torch.Size([64, 1, 256, 256])\n",
      "Shape of y: torch.Size([64]) torch.int64\n",
      "\n",
      "Validation data:\n",
      "Shape of X : torch.Size([64, 1, 256, 256])\n",
      "Shape of y: torch.Size([64]) torch.int64\n",
      "\n"
     ]
    }
   ],
   "source": [
    "# print shape for Training data and Validation data\n",
    "# Where X is train_loader and y is val_loader\n",
    "for key, value in {'Training data': train_loader, \"Validation data\": val_loader}.items():\n",
    "    for X, y in value:\n",
    "        print(f\"{key}:\")\n",
    "        print(f\"Shape of X : {X.shape}\")\n",
    "        print(f\"Shape of y: {y.shape} {y.dtype}\\n\")\n",
    "        break"
   ]
  },
  {
   "cell_type": "markdown",
   "id": "7546b41d",
   "metadata": {},
   "source": [
    "# Convolutional layer parameters\n",
    "\n",
    "This function is designed to calculate the output size of a convolutional layer in a neural network given the input dimensions (hin, win) and the convolutional layer's parameters (conv). The output size is computed using the formula for convolution output size, taking into account parameters such as kernel size, stride, padding, and dilation. If a pooling size is specified, the output size is adjusted accordingly. The function returns the computed output height and width as integers."
   ]
  },
  {
   "cell_type": "code",
   "execution_count": 21,
   "id": "27df94d3",
   "metadata": {},
   "outputs": [],
   "source": [
    "'''This function can be useful in determining the output size of a convolutional layer in a neural network,\n",
    "given the input dimensions and the convolutional layer's parameters.'''\n",
    "# Define a function named findConv2dOutShape that takes input dimensions (hin, win), a convolutional layer (conv), and an optional pooling size (pool)\n",
    "def findConv2dOutShape(hin, win, conv, pool=2):\n",
    "    # Extract convolutional layer parameters\n",
    "    kernel_size = conv.kernel_size\n",
    "    stride = conv.stride\n",
    "    padding = conv.padding\n",
    "    dilation = conv.dilation\n",
    "\n",
    "    # Compute output height and width using the formula for convolution output size\n",
    "    hout = np.floor((hin + 2 * padding[0] - dilation[0] * (kernel_size[0] - 1) - 1) / stride[0] + 1)\n",
    "    wout = np.floor((win + 2 * padding[1] - dilation[1] * (kernel_size[1] - 1) - 1) / stride[1] + 1)\n",
    "\n",
    "    # If pooling is specified, adjust output size by dividing by the pooling size\n",
    "    if pool:\n",
    "        hout /= pool\n",
    "        wout /= pool\n",
    "    \n",
    "    # Return the computed output height and width\n",
    "    return int(hout), int(wout)\n"
   ]
  },
  {
   "cell_type": "markdown",
   "id": "91733cd9",
   "metadata": {},
   "source": [
    "This code defines a CNN architecture with multiple convolutional layers followed by fully connected layers for tumor classification. The __init__ method initializes the network's architecture, and the forward method defines the forward pass computation.\n",
    "\n",
    "The __init__ method:\n",
    "\n",
    "Initializes the superclass (nn.Module) and unpacks input parameters such as input shape, number of filters, number of neurons in the fully connected layers, number of output classes, and dropout rate.\n",
    "Defines convolutional layers (self.conv1, self.conv2, self.conv3, self.conv4) with specified kernel sizes and calculates the output shape after each layer using the findConv2dOutShape function.\n",
    "Calculates the number of features to be flattened before the fully connected layers.\n",
    "Defines fully connected layers (self.fc1, self.fc2) with specified numbers of neurons.\n",
    "\n",
    "The **forward** method:\n",
    "\n",
    "Performs the forward pass computation:\n",
    "Applies convolutional layers (self.conv1 to self.conv4) followed by ReLU activation and max pooling.\n",
    "Flattens the output tensor.\n",
    "Applies fully connected layers (self.fc1, self.fc2) with ReLU activation and dropout.\n",
    "Returns the log softmax output for classification."
   ]
  },
  {
   "cell_type": "code",
   "execution_count": 22,
   "id": "8791587b",
   "metadata": {},
   "outputs": [],
   "source": [
    "class CNN_TUMOR(nn.Module):\n",
    "    \n",
    "    # Constructor method for initializing the CNN_TUMOR class\n",
    "    def __init__(self, params):\n",
    "        \n",
    "        # Call the constructor of the superclass (nn.Module)\n",
    "        super(CNN_TUMOR, self).__init__()\n",
    "    \n",
    "        # Unpack input parameters\n",
    "        Cin, Hin, Win = params[\"shape_in\"]  # Number of channels, height, width of input image\n",
    "        init_f = params[\"initial_filters\"]  # Initial number of filters in conv layers\n",
    "        num_fc1 = params[\"num_fc1\"]  # Number of neurons in the first fully connected layer\n",
    "        num_classes = params[\"num_classes\"]  # Number of output classes (e.g., types of tumor)\n",
    "        self.dropout_rate = params[\"dropout_rate\"]  # Dropout rate for regularization\n",
    "        \n",
    "        # Define the first convolutional layer\n",
    "        self.conv1 = nn.Conv2d(Cin, init_f, kernel_size=3)\n",
    "        h, w = findConv2dOutShape(Hin, Win, self.conv1)  # Calculate output shape after this layer\n",
    "        \n",
    "        # Define the second convolutional layer\n",
    "        self.conv2 = nn.Conv2d(init_f, 2*init_f, kernel_size=3)\n",
    "        h, w = findConv2dOutShape(h, w, self.conv2)  # Adjust h, w for output shape\n",
    "        \n",
    "        # Define the third convolutional layer\n",
    "        self.conv3 = nn.Conv2d(2*init_f, 4*init_f, kernel_size=3)\n",
    "        h, w = findConv2dOutShape(h, w, self.conv3)  # Further adjust h, w for output shape\n",
    "        \n",
    "        # Define the fourth convolutional layer\n",
    "        self.conv4 = nn.Conv2d(4*init_f, 8*init_f, kernel_size=3)\n",
    "        h, w = findConv2dOutShape(h, w, self.conv4)  # Final adjustment for output shape\n",
    "        \n",
    "        # Calculate the number of features to be flattened before the fully connected layer\n",
    "        self.num_flatten = h * w * 8 * init_f\n",
    "        \n",
    "        # Define the first fully connected layer\n",
    "        self.fc1 = nn.Linear(self.num_flatten, num_fc1)\n",
    "        \n",
    "        # Define the second fully connected layer (output layer)\n",
    "        self.fc2 = nn.Linear(num_fc1, num_classes)\n",
    "\n",
    "    # Define the forward pass\n",
    "    def forward(self, X):\n",
    "        # Pass input through the first convolutional layer, then apply ReLU and max pooling\n",
    "        X = F.relu(self.conv1(X))\n",
    "        X = F.max_pool2d(X, 2, 2)\n",
    "        \n",
    "        # Second conv layer\n",
    "        X = F.relu(self.conv2(X))\n",
    "        X = F.max_pool2d(X, 2, 2)\n",
    "        \n",
    "        # Third conv layer\n",
    "        X = F.relu(self.conv3(X))\n",
    "        X = F.max_pool2d(X, 2, 2)\n",
    "        \n",
    "        # Fourth conv layer\n",
    "        X = F.relu(self.conv4(X))\n",
    "        X = F.max_pool2d(X, 2, 2)\n",
    "        \n",
    "        # Flatten the output for the fully connected layer\n",
    "        X = X.view(-1, self.num_flatten)\n",
    "        \n",
    "        # First fully connected layer with ReLU activation\n",
    "        X = F.relu(self.fc1(X))\n",
    "        \n",
    "        # Apply dropout for regularization\n",
    "        X = F.dropout(X, self.dropout_rate)\n",
    "        \n",
    "        # Final fully connected layer\n",
    "        X = self.fc2(X)\n",
    "        \n",
    "        # Apply log softmax on the output to get log probabilities for each class\n",
    "        return F.log_softmax(X, dim=1)\n"
   ]
  },
  {
   "cell_type": "markdown",
   "id": "91d32629",
   "metadata": {},
   "source": [
    " It consists of convolutional layers for feature extraction followed by fully connected layers for classification. Additionally, it incorporates dropout regularization to prevent overfitting during training."
   ]
  },
  {
   "cell_type": "code",
   "execution_count": 23,
   "id": "be7bca6c",
   "metadata": {},
   "outputs": [],
   "source": [
    "# Define the parameters for the CNN model\n",
    "params_model = {\n",
    "    \"shape_in\": (1, 256, 256),  # Input image shape: 1 channel, 256x256 pixels\n",
    "    \"initial_filters\": 8,       # Number of filters in the first conv layer\n",
    "    \"num_fc1\": 100,             # Number of neurons in the first fully connected layer\n",
    "    \"dropout_rate\": 0.25,       # Dropout rate for regularization to prevent overfitting\n",
    "    \"num_classes\": 2            # Number of output classes (e.g., tumor or no tumor)\n",
    "}\n",
    "\n",
    "# Instantiate the CNN_TUMOR model with the defined parameters\n",
    "cnn_model = CNN_TUMOR(params_model)\n",
    "\n",
    "# Determine whether a GPU with CUDA support is available; use CPU otherwise\n",
    "device = torch.device('cuda' if torch.cuda.is_available() else 'cpu')\n",
    "\n",
    "# Transfer the model to the selected device (GPU or CPU)\n",
    "model = cnn_model.to(device)"
   ]
  },
  {
   "cell_type": "code",
   "execution_count": 24,
   "id": "9527b2d5",
   "metadata": {},
   "outputs": [
    {
     "name": "stdout",
     "output_type": "stream",
     "text": [
      "Training Data:\n",
      "=================================================================\n",
      "Layer (type:depth-idx)                   Param #\n",
      "=================================================================\n",
      "├─Conv2d: 1-1                            80\n",
      "├─Conv2d: 1-2                            1,168\n",
      "├─Conv2d: 1-3                            4,640\n",
      "├─Conv2d: 1-4                            18,496\n",
      "├─Linear: 1-5                            1,254,500\n",
      "├─Linear: 1-6                            202\n",
      "=================================================================\n",
      "Total params: 1,279,086\n",
      "Trainable params: 1,279,086\n",
      "Non-trainable params: 0\n",
      "=================================================================\n",
      "Validation Data:\n",
      "=================================================================\n",
      "Layer (type:depth-idx)                   Param #\n",
      "=================================================================\n",
      "├─Conv2d: 1-1                            80\n",
      "├─Conv2d: 1-2                            1,168\n",
      "├─Conv2d: 1-3                            4,640\n",
      "├─Conv2d: 1-4                            18,496\n",
      "├─Linear: 1-5                            1,254,500\n",
      "├─Linear: 1-6                            202\n",
      "=================================================================\n",
      "Total params: 1,279,086\n",
      "Trainable params: 1,279,086\n",
      "Non-trainable params: 0\n",
      "=================================================================\n"
     ]
    },
    {
     "data": {
      "text/plain": [
       "=================================================================\n",
       "Layer (type:depth-idx)                   Param #\n",
       "=================================================================\n",
       "├─Conv2d: 1-1                            80\n",
       "├─Conv2d: 1-2                            1,168\n",
       "├─Conv2d: 1-3                            4,640\n",
       "├─Conv2d: 1-4                            18,496\n",
       "├─Linear: 1-5                            1,254,500\n",
       "├─Linear: 1-6                            202\n",
       "=================================================================\n",
       "Total params: 1,279,086\n",
       "Trainable params: 1,279,086\n",
       "Non-trainable params: 0\n",
       "================================================================="
      ]
     },
     "execution_count": 24,
     "metadata": {},
     "output_type": "execute_result"
    }
   ],
   "source": [
    "# Model Summary for CNN Model\n",
    "# summary(cnn_model, input_size=(1, 256, 256),device=device.type)\n",
    "\n",
    "# Determine the shape of input tensors in the processed_train_loader and processed_val_loader\n",
    "sample_input_train = next(iter(processed_train_loader))[0]  # Get a sample input from the train loader\n",
    "sample_input_val = next(iter(processed_val_loader))[0]      # Get a sample input from the validation loader\n",
    "\n",
    "# Determine the shape of the sample input tensors\n",
    "input_shape_train = sample_input_train.shape[1:]  # Exclude batch dimension\n",
    "input_shape_val = sample_input_val.shape[1:]      # Exclude batch dimension\n",
    "\n",
    "# Model Summary for CNN Model with input shape from train_loader\n",
    "print(\"Training Data:\")\n",
    "summary(cnn_model, input_size=input_shape_train, device=device.type)\n",
    "\n",
    "# Model Summary for CNN Model with input shape from val_loader\n",
    "print(\"Validation Data:\")\n",
    "summary(cnn_model, input_size=input_shape_val, device=device.type)"
   ]
  },
  {
   "cell_type": "markdown",
   "id": "74f6163a",
   "metadata": {},
   "source": [
    "This line of code initializes a loss function for training a neural network. Specifically, it creates an instance of the Negative Log Likelihood Loss function (nn.NLLLoss) from the PyTorch nn module.\n",
    "\n",
    "Explanation:\n",
    "\n",
    "nn.NLLLoss: Negative Log Likelihood Loss is commonly used for classification problems, especially when the output of the network is a probability distribution over classes (often achieved through applying a log softmax activation function to the output layer). It measures the negative log likelihood of the true class given the predicted probabilities. In other words, it penalizes models more heavily for confidently wrong predictions.\n",
    "\n",
    "reduction=\"sum\": This argument specifies how the loss should be aggregated across all samples in a batch. Setting it to \"sum\" means that the losses from all samples in the batch will be summed up to get the total loss. Other possible values for reduction include \"mean\" (calculate the mean of the losses) and \"none\" (do not perform any reduction).\n",
    "\n",
    "So, loss_func will be used to compute the loss during training, summing up the losses across all samples in a batch to get the total loss."
   ]
  },
  {
   "cell_type": "code",
   "execution_count": 25,
   "id": "dbe951bf",
   "metadata": {},
   "outputs": [],
   "source": [
    "loss_func = nn.NLLLoss(reduction=\"sum\")\n"
   ]
  },
  {
   "cell_type": "markdown",
   "id": "8e3e6a39",
   "metadata": {},
   "source": [
    "# Optimizing \n",
    "\n",
    "optim.Adam: Adam is an optimization algorithm that is well-suited for training deep neural networks. It computes adaptive learning rates for each parameter based on estimates of the first and second moments of the gradients. optim.Adam is an implementation of the Adam algorithm provided by PyTorch's optim module.\n",
    "\n",
    "cnn_model.parameters(): This method of cnn_model returns an iterator over all parameters (tensors) of the model that require gradients, which are the parameters we want to optimize during training.\n",
    "\n",
    "lr=3e-4: This argument specifies the learning rate for the Adam optimizer. The learning rate determines the size of the step that the optimizer takes while updating the model parameters during training. Here, it's set to 3e-4 (0.0003).\n",
    "\n",
    "ReduceLROnPlateau: This is a learning rate scheduler provided by PyTorch. It dynamically adjusts the learning rate during training based on the validation loss. If the validation loss stops improving, it reduces the learning rate to help the optimizer converge better.\n",
    "\n",
    "mode='min': This argument specifies that the scheduler should monitor the quantity (validation loss) to be minimized.\n",
    "\n",
    "factor=0.5: This argument specifies the factor by which the learning rate will be reduced. Here, it's set to 0.5, meaning the learning rate will be halved when triggered.\n",
    "\n",
    "patience=20: This argument specifies the number of epochs with no improvement in the monitored quantity (validation loss) after which the learning rate will be reduced.\n",
    "\n",
    "verbose=1: This argument controls the verbosity of the output. If set to 1, it prints a message to stdout when the learning rate is changed.\n",
    "\n",
    "In summary, the optimizer (opt) is responsible for updating the model parameters during training using the Adam optimization algorithm with a specified learning rate. The learning rate scheduler (lr_scheduler) adjusts the learning rate dynamically based on the validation loss, aiming to improve the model's performance during training."
   ]
  },
  {
   "cell_type": "code",
   "execution_count": 26,
   "id": "1a88ecad",
   "metadata": {},
   "outputs": [],
   "source": [
    "opt = optim.Adam(cnn_model.parameters(), lr=3e-4)\n",
    "lr_scheduler = ReduceLROnPlateau(opt, mode='min',factor=0.5, patience=20,verbose=1)"
   ]
  },
  {
   "cell_type": "markdown",
   "id": "53b2d06f",
   "metadata": {},
   "source": [
    "get_lr(opt):\n",
    "\n",
    "This function retrieves the current learning rate from the optimizer.\n",
    "It takes an optimizer (opt) as input.\n",
    "\n",
    "Inside the function:\n",
    "\n",
    "It iterates over the param_groups attribute of the optimizer.\n",
    "Each param_group is a dictionary containing optimizer parameters, including the learning rate.\n",
    "It returns the learning rate found in the first parameter group.\n",
    "\n",
    "loss_batch(loss_func, output, target, opt=None):\n",
    "\n",
    "This function computes the loss value and a performance metric (e.g., accuracy) for a batch of data.\n",
    "\n",
    "It takes the following inputs:\n",
    "\n",
    "loss_func: The loss function to compute the loss.\n",
    "\n",
    "output: The model's output tensor.\n",
    "\n",
    "target: The target labels tensor.\n",
    "\n",
    "opt (optional): The optimizer object for performing backpropagation and optimization. If provided, it will update the model's parameters.\n",
    "\n",
    "Inside the function:\n",
    "\n",
    "It computes the loss using the specified loss_func.\n",
    "It calculates the predicted classes by finding the indices of the maximum values along the class dimension.\n",
    "It computes the performance metric by comparing the predicted classes with the target labels.\n",
    "If an optimizer is provided (opt is not None), it performs backpropagation, zeros the gradients, and updates the model's parameters.\n",
    "\n",
    "loss_epoch(model, loss_func, dataset_dl, opt=None):\n",
    "\n",
    "This function computes the average loss value and performance metric for the entire dataset (an epoch).\n",
    "\n",
    "It takes the following inputs:\n",
    "\n",
    "model: The neural network model.\n",
    "\n",
    "loss_func: The loss function used to compute the loss.\n",
    "\n",
    "dataset_dl: The dataloader for the dataset.\n",
    "\n",
    "opt (optional): The optimizer object. If provided, it will be used in loss_batch to perform backpropagation and parameter updates.\n",
    "\n",
    "Inside the function:\n",
    "\n",
    "It initializes variables run_loss and t_metric to accumulate the total loss and performance metric.\n",
    "\n",
    "It iterates over batches of data from the dataset_dl.\n",
    "\n",
    "For each batch, it moves the batch data to the appropriate device (e.g., GPU), computes the model's output, and calculates the loss and metric using loss_batch.\n",
    "\n",
    "It accumulates the loss and metric values across all batches.\n",
    "\n",
    "Finally, it computes the average loss and metric values by dividing the accumulated values by the total number of samples in the dataset.\n",
    "These functions are essential components for training a neural network model. They facilitate the computation of loss values, performance metrics, and updating model parameters during the training process."
   ]
  },
  {
   "cell_type": "code",
   "execution_count": 27,
   "id": "b50cb639",
   "metadata": {},
   "outputs": [],
   "source": [
    "# Function to get the current learning rate of the optimizer\n",
    "def get_lr(opt):\n",
    "    for param_group in opt.param_groups:\n",
    "        return param_group['lr']\n",
    "\n",
    "# Function to compute the loss value and performance metric per batch of data\n",
    "def loss_batch(loss_func, output, target, yb, opt=None):\n",
    "    # Calculate the loss using the specified loss function\n",
    "    loss = loss_func(output, target)\n",
    "    # Predicted classes are obtained by finding the index of the maximum value along the specified dimension (usually the class dimension)\n",
    "    pred = output.argmax(dim=1, keepdim=True)\n",
    "    # Compute the performance metric, which is the number of correct predictions in the batch\n",
    "    metric_b = pred.eq(target.view_as(pred)).sum().item()\n",
    "\n",
    "    # If an optimizer is provided, perform backpropagation and optimization steps\n",
    "    if opt is not None:\n",
    "        opt.zero_grad()  # Zero the gradients\n",
    "        loss.backward()  # Compute gradients via backpropagation\n",
    "        opt.step()  # Update model parameters based on gradients\n",
    "\n",
    "    return loss.item(), metric_b  # Return the loss value and performance metric for the batch\n",
    "\n",
    "# Compute the loss value and performance metric for the entire dataset (epoch)\n",
    "def loss_epoch(model, loss_func, dataset_dl, opt=None):\n",
    "    run_loss = 0.0  # Running loss accumulator\n",
    "    t_metric = 0.0  # Total performance metric accumulator\n",
    "    len_data = len(dataset_dl.dataset)  # Total number of samples in the dataset\n",
    "\n",
    "    # Internal loop over the dataset\n",
    "    for xb, yb in dataset_dl:\n",
    "    # Move batch data to the device (e.g., GPU)\n",
    "        xb = xb.to(device)\n",
    "        yb = yb.to(device)\n",
    "        output = model(xb)  # Get model output\n",
    "        # Compute the loss and performance metric for the batch\n",
    "        loss_b, metric_b = loss_batch(loss_func, output, yb, yb, opt)  # Pass yb from train_loader\n",
    "        run_loss += loss_b  # Accumulate the running loss\n",
    "\n",
    "    if metric_b is not None:  # If a metric is computed\n",
    "        t_metric += metric_b  # Accumulate the total metric value\n",
    "\n",
    "    \n",
    "    # Calculate the average loss value and metric value across the entire dataset\n",
    "    loss = run_loss / float(len_data)\n",
    "    metric = t_metric / float(len_data)\n",
    "\n",
    "    return loss, metric  # Return the average loss and metric values for the epoch\n"
   ]
  },
  {
   "cell_type": "markdown",
   "id": "9e1e0464",
   "metadata": {},
   "source": [
    "The Train_Val function is responsible for training and evaluating a neural network model over a specified number of epochs.\n",
    "\n",
    "It takes the model to be trained, a dictionary params containing various training parameters, and an optional verbose flag to control printing progress during training.\n",
    "\n",
    "Inside the function:\n",
    "\n",
    "The parameters are extracted from the params dictionary.\n",
    "\n",
    "- Loss and metric history dictionaries are initialized to track training and validation performance over epochs.\n",
    "- A deep copy of the model's weights is made to store the best performing model.\n",
    "- The training loop runs for the specified number of epochs.\n",
    "\n",
    "In each epoch:\n",
    "\n",
    "- The model is trained (model.train()) and evaluated (model.eval()).\n",
    "- Training and validation losses and metrics are computed using the loss_epoch function.\n",
    "- If the validation loss improves, the model weights are copied and saved as the best performing model.\n",
    "- Learning rate adjustments are made using the learning rate scheduler (lr_scheduler.step()).\n",
    "- Optionally, if the learning rate changes, the best model weights are reloaded.\n",
    "- If verbose is True, progress information is printed.\n",
    "\n",
    "After training, the best model weights are loaded, and the trained model, loss history, and metric history are returned.\n",
    "This function encapsulates the entire process of training and validation, making it easier to manage and monitor the training progress of a neural network model.\n"
   ]
  },
  {
   "cell_type": "code",
   "execution_count": 28,
   "id": "a0c0bd94",
   "metadata": {},
   "outputs": [],
   "source": [
    "def Train_Val(model, params, verbose=False):\n",
    "    # Extract parameters from the params dictionary\n",
    "    epochs = params[\"epochs\"]  # Number of epochs for training\n",
    "    loss_func = params[\"f_loss\"]  # Loss function\n",
    "    opt = params[\"optimiser\"]  # Optimizer (e.g., Adam)\n",
    "    train_dl = params[\"train\"]  # DataLoader for training dataset\n",
    "    val_dl = params[\"val\"]  # DataLoader for validation dataset\n",
    "    lr_scheduler = params[\"lr_change\"]  # Learning rate scheduler\n",
    "    weight_path = params[\"weight_path\"]  # Path to save the best model weights\n",
    "    \n",
    "    # Initialize dictionaries to store loss and metric history\n",
    "    loss_history = {\"train\": [], \"val\": []}  # Loss history for training and validation\n",
    "    metric_history = {\"train\": [], \"val\": []}  # Metric history for training and validation\n",
    "    \n",
    "    # Create a deep copy of the model's weights for the best performing model\n",
    "    best_model_wts = copy.deepcopy(model.state_dict()) \n",
    "    \n",
    "    # Initialize the best loss to a large value\n",
    "    best_loss = float('inf')\n",
    "\n",
    "    # Loop over epochs\n",
    "    for epoch in tqdm(range(epochs)):  # tqdm provides a progress bar\n",
    "        \n",
    "        # Get the current learning rate\n",
    "        current_lr = get_lr(opt)\n",
    "        if verbose:\n",
    "            print('Epoch {}/{}, current lr={}'.format(epoch, epochs - 1, current_lr))\n",
    "\n",
    "        # Train the model\n",
    "        model.train()  # Set the model to training mode\n",
    "        train_loss, train_metric = loss_epoch(model, loss_func, train_dl, opt)\n",
    "        # Collect training losses and metrics\n",
    "        loss_history[\"train\"].append(train_loss)\n",
    "        metric_history[\"train\"].append(train_metric)\n",
    "        \n",
    "        # Evaluate the model on the validation set\n",
    "        model.eval()  # Set the model to evaluation mode\n",
    "        with torch.no_grad():  # Disable gradient computation during evaluation\n",
    "            val_loss, val_metric = loss_epoch(model, loss_func, val_dl)\n",
    "        \n",
    "        # Store the weights if the validation loss improves\n",
    "        if val_loss < best_loss:\n",
    "            best_loss = val_loss\n",
    "            best_model_wts = copy.deepcopy(model.state_dict())\n",
    "            # Save the best model weights to a file\n",
    "            torch.save(model.state_dict(), weight_path)\n",
    "            if verbose:\n",
    "                print(\"Copied best model weights!\")\n",
    "        \n",
    "        # Collect validation losses and metrics\n",
    "        loss_history[\"val\"].append(val_loss)\n",
    "        metric_history[\"val\"].append(val_metric)\n",
    "        \n",
    "        # Adjust learning rate based on the validation loss\n",
    "        lr_scheduler.step(val_loss)\n",
    "        # Reload the best model weights if learning rate is changed\n",
    "        if current_lr != get_lr(opt):\n",
    "            if verbose:\n",
    "                print(\"Loading best model weights!\")\n",
    "            model.load_state_dict(best_model_wts) \n",
    "        \n",
    "        if verbose:\n",
    "            print(f\"train loss: {train_loss:.6f}, dev loss: {val_loss:.6f}, accuracy: {100*val_metric:.2f}\")\n",
    "            print(\"-\"*10) \n",
    "\n",
    "    # Load the best model weights\n",
    "    model.load_state_dict(best_model_wts)\n",
    "        \n",
    "    return model, loss_history, metric_history"
   ]
  },
  {
   "cell_type": "markdown",
   "id": "7c2da9da",
   "metadata": {},
   "source": [
    "- params_train: This dictionary contains various parameters required for training and evaluation of the CNN model. Here's a breakdown of each parameter:\n",
    "- \"train\": The DataLoader for the training dataset. It contains batches of training samples.\n",
    "- \"val\": The DataLoader for the validation dataset. It contains batches of validation samples.\n",
    "- \"epochs\": The number of epochs (iterations over the entire dataset) for training the model. (works like a for-loop)\n",
    "- \"optimiser\": The optimizer used for updating the model parameters during training. In this case, it's Adam optimizer with a learning rate of 3e-4 (lr=3e-4).\n",
    "- \"lr_change\": The learning rate scheduler. It adjusts the learning rate dynamically during training based on the validation loss. Here, it's an instance of ReduceLROnPlateau scheduler, which reduces the learning rate by a factor of 0.5 if the validation loss does not improve for 20 epochs.\n",
    "- \"f_loss\": The loss function used for computing the loss during training. It's Negative Log Likelihood Loss (nn.NLLLoss) with sum reduction.\n",
    "- \"weight_path\": The path where the best model weights will be saved. In this case, it's set to \"weights.pt\".\n",
    "- cnn_model, loss_hist, metric_hist = Train_Val(cnn_model, params_train): This line calls the Train_Val function to train and validate the CNN model. It passes the CNN model (cnn_model) and the training parameters (params_train). After training, it returns the trained model (cnn_model), the loss history (loss_hist), and the metric history (metric_hist)."
   ]
  },
  {
   "cell_type": "code",
   "execution_count": 29,
   "id": "4021dbdf",
   "metadata": {},
   "outputs": [
    {
     "data": {
      "application/vnd.jupyter.widget-view+json": {
       "model_id": "e24d62cd7dde407fb16cc8a995adf420",
       "version_major": 2,
       "version_minor": 0
      },
      "text/plain": [
       "  0%|          | 0/60 [00:00<?, ?it/s]"
      ]
     },
     "metadata": {},
     "output_type": "display_data"
    }
   ],
   "source": [
    "# Define various parameters used for training and evaluation of a cnn_model\n",
    "params_train = {\n",
    "    \"train\": processed_train_loader,  # DataLoader for processed training dataset\n",
    "    \"val\": val_loader,  # DataLoader for processed validation dataset\n",
    "    \"epochs\": 60,  # Number of epochs for training\n",
    "    \"optimiser\": optim.Adam(cnn_model.parameters(), lr=3e-4),  # Adam optimizer with learning rate 3e-4\n",
    "    \"lr_change\": ReduceLROnPlateau(opt, mode='min', factor=0.5, patience=20, verbose=0),  # Learning rate scheduler\n",
    "    \"f_loss\": nn.NLLLoss(reduction=\"sum\"),  # Negative Log Likelihood Loss function\n",
    "    \"weight_path\": \"weights.pt\",  # Path to save the best model weights\n",
    "}\n",
    "\n",
    "# Train and validate the model\n",
    "cnn_model, loss_hist, metric_hist = Train_Val(cnn_model, params_train)\n"
   ]
  },
  {
   "cell_type": "markdown",
   "id": "f3009909",
   "metadata": {},
   "source": [
    "- epochs = params_train[\"epochs\"]: This line extracts the number of epochs (epochs) from the params_train dictionary. It's used to define the x-axis range for plotting the convergence history.\n",
    "\n",
    "- fig, ax = plt.subplots(1, 2, figsize=(12, 5)): This line creates a figure (fig) and a set of subplots (ax) arranged in a single row and two columns. The total figure size is set to 12x5 inches.\n",
    "\n",
    "sns.lineplot(...):\n",
    "\n",
    "These lines plot the convergence history on the created subplots using Seaborn's lineplot function.\n",
    "Loss:\n",
    "- sns.lineplot(x=[*range(1, epochs+1)], y=loss_hist[\"train\"], ax=ax[0], label='loss_hist[\"train\"]'): This line plots the training loss (loss_hist[\"train\"]) against the epoch number on the first subplot (ax[0]). It uses a label to identify the plot.\n",
    "- sns.lineplot(x=[*range(1, epochs+1)], y=loss_hist[\"val\"], ax=ax[0], label='loss_hist[\"val\"]'): This line plots the validation loss (loss_hist[\"val\"]) against the epoch number on the first subplot (ax[0]). It uses a label to identify the plot.\n",
    "\n",
    "Accuracy:\n",
    "- sns.lineplot(x=[*range(1, epochs+1)], y=metric_hist[\"train\"], ax=ax[1], label='Acc_hist[\"train\"]'): This line plots the training accuracy (metric_hist[\"train\"]) against the epoch number on the second subplot (ax[1]). It uses a label to identify the plot.\n",
    "- sns.lineplot(x=[*range(1, epochs+1)], y=metric_hist[\"val\"], ax=ax[1], label='Acc_hist[\"val\"]'): This line plots the validation accuracy (metric_hist[\"val\"]) against the epoch number on the second subplot (ax[1]). It uses a label to identify the plot.\n",
    "\n",
    "These lines of code create a figure with two subplots: one for displaying loss history and the other for displaying accuracy history. The training and validation loss and accuracy are plotted against the epoch number to visualize the convergence of the model during training."
   ]
  },
  {
   "cell_type": "code",
   "execution_count": 30,
   "id": "42b98976",
   "metadata": {
    "scrolled": true
   },
   "outputs": [
    {
     "data": {
      "text/plain": [
       "<AxesSubplot:>"
      ]
     },
     "execution_count": 30,
     "metadata": {},
     "output_type": "execute_result"
    },
    {
     "data": {
      "image/png": "[encoded data removed]",
      "text/plain": [
       "<Figure size 864x360 with 2 Axes>"
      ]
     },
     "metadata": {},
     "output_type": "display_data"
    }
   ],
   "source": [
    "# Convergence History Plot\n",
    "epochs = params_train[\"epochs\"]  # Extract the number of epochs from training parameters\n",
    "\n",
    "# Create subplots for displaying loss and accuracy history\n",
    "fig, ax = plt.subplots(1, 2, figsize=(12, 5))\n",
    "\n",
    "# Plot training and validation loss history\n",
    "sns.lineplot(x=[*range(1, epochs+1)], y=loss_hist[\"train\"], ax=ax[0], label='loss_hist[\"train\"]')\n",
    "sns.lineplot(x=[*range(1, epochs+1)], y=loss_hist[\"val\"], ax=ax[0], label='loss_hist[\"val\"]')\n",
    "\n",
    "# Plot training and validation accuracy history\n",
    "sns.lineplot(x=[*range(1, epochs+1)], y=metric_hist[\"train\"], ax=ax[1], label='Acc_hist[\"train\"]')\n",
    "sns.lineplot(x=[*range(1, epochs+1)], y=metric_hist[\"val\"], ax=ax[1], label='Acc_hist[\"val\"]')\n"
   ]
  },
  {
   "cell_type": "markdown",
   "id": "5ad3cb73",
   "metadata": {},
   "source": [
    "The Ture_and_Pred function takes a DataLoader (val_loader) and a model (model) as inputs. It iterates through the validation loader to get true labels (y_true) and predicted labels (y_pred) for each image. These true and predicted labels are stored in separate lists.\n",
    "\n",
    "Inside the loop:\n",
    "\n",
    "- Images are moved to the appropriate device (device, usually GPU) for model inference.\n",
    "- True labels are converted from tensors to NumPy arrays.\n",
    "- Model predictions are obtained by passing images through the model (model(images)). The torch.max function is used to get the index of the class with the highest probability (pred).\n",
    "- Predicted labels are converted from tensors to NumPy arrays.\n",
    "- After iterating through the validation loader, the function returns the lists of true and predicted labels.\n",
    "\n",
    "The true and predicted labels are then used to compute the classification report using classification_report from scikit-learn, which provides precision, recall, F1-score, and support for each class.\n",
    "\n",
    "Finally, the confusion matrix (cm) is computed using confusion_matrix from scikit-learn for error analysis."
   ]
  },
  {
   "cell_type": "code",
   "execution_count": 31,
   "id": "a03cc26b",
   "metadata": {},
   "outputs": [
    {
     "name": "stdout",
     "output_type": "stream",
     "text": [
      "              precision    recall  f1-score   support\n",
      "\n",
      "         0.0       0.00      0.00      0.00      1187\n",
      "         1.0       0.46      1.00      0.63       999\n",
      "\n",
      "    accuracy                           0.46      2186\n",
      "   macro avg       0.23      0.50      0.31      2186\n",
      "weighted avg       0.21      0.46      0.29      2186\n",
      " \n",
      "\n",
      "\n"
     ]
    }
   ],
   "source": [
    "# Define function For Classification Report\n",
    "def Ture_and_Pred(val_loader, model):\n",
    "    i = 0  # Initialize a counter\n",
    "    y_true = []  # Create an empty list to store true labels\n",
    "    y_pred = []  # Create an empty list to store predicted labels\n",
    "    for images, labels in val_loader:  # Iterate through the validation loader\n",
    "        images = images.to(device)  # Move images to the appropriate device (e.g., GPU)\n",
    "        labels = labels.numpy()  # Convert tensor labels to numpy array\n",
    "        outputs = model(images)  # Get model predictions for the images\n",
    "        _, pred = torch.max(outputs.data, 1)  # Get the predicted class with maximum probability\n",
    "        pred = pred.detach().cpu().numpy()  # Convert tensor predictions to numpy array\n",
    "        \n",
    "        # Append true and predicted labels to the respective lists\n",
    "        y_true = np.append(y_true, labels)\n",
    "        y_pred = np.append(y_pred, pred)\n",
    "    \n",
    "    return y_true, y_pred  # Return the true and predicted labels\n",
    "\n",
    "# Call the function to get true and predicted labels\n",
    "y_true, y_pred = Ture_and_Pred(val_loader, cnn_model)\n",
    "\n",
    "# Print classification report\n",
    "print(classification_report(y_true, y_pred), '\\n\\n')\n",
    "\n",
    "# Compute confusion matrix for error analysis\n",
    "cm = confusion_matrix(y_true, y_pred)\n"
   ]
  },
  {
   "cell_type": "code",
   "execution_count": 32,
   "id": "5df63109",
   "metadata": {},
   "outputs": [
    {
     "data": {
      "image/png": "[encoded data removed]",
      "text/plain": [
       "<Figure size 720x504 with 2 Axes>"
      ]
     },
     "metadata": {},
     "output_type": "display_data"
    }
   ],
   "source": [
    "# Confusion Matrix Plotting Function\n",
    "def show_confusion_matrix(cm, CLA_label, title='Confusion matrix', cmap=plt.cm.YlGnBu):\n",
    "    \"\"\"\n",
    "    Plot the confusion matrix.\n",
    "\n",
    "    Parameters:\n",
    "        cm (numpy.ndarray): Confusion matrix.\n",
    "        CLA_label (dict): Dictionary containing class labels.\n",
    "        title (str): Title for the plot (default is 'Confusion matrix').\n",
    "        cmap (matplotlib.colors.Colormap): Colormap for the plot (default is plt.cm.YlGnBu).\n",
    "    \"\"\"\n",
    "    \n",
    "    plt.figure(figsize=(10,7))  # Create a new figure with a specific size\n",
    "    plt.grid(False)  # Turn off the grid\n",
    "    plt.imshow(cm, interpolation='nearest', cmap=cmap)  # Display the confusion matrix as an image\n",
    "    plt.title(title)  # Set the title of the plot\n",
    "    plt.colorbar()  # Add a color bar to the plot\n",
    "    tick_marks = np.arange(len(CLA_label))  # Create tick marks for the class labels\n",
    "\n",
    "    # Set labels for ticks on x-axis and y-axis\n",
    "    plt.xticks(tick_marks, [f\"{value}={key}\" for key , value in CLA_label.items()], rotation=45)\n",
    "    plt.yticks(tick_marks, [f\"{value}={key}\" for key , value in CLA_label.items()])\n",
    "\n",
    "    # Add text annotations for each cell in the confusion matrix\n",
    "    thresh = cm.max() / 2.\n",
    "    for i, j in itertools.product(range(cm.shape[0]), range(cm.shape[1])):\n",
    "        plt.text(j, i, f\"{cm[i,j]}\\n{cm[i,j]/np.sum(cm)*100:.2f}%\", horizontalalignment=\"center\", color=\"white\" if cm[i, j] > thresh else \"black\")\n",
    "\n",
    "    plt.ylabel('Actual')  # Set label for y-axis\n",
    "    plt.xlabel('Predicted')  # Set label for x-axis\n",
    "    plt.tight_layout()  # Adjust layout to prevent overlap of labels\n",
    "    plt.show()  # Show the plot\n",
    "\n",
    "# Call the function to display the confusion matrix\n",
    "show_confusion_matrix(cm, CLA_label)\n"
   ]
  },
  {
   "cell_type": "code",
   "execution_count": null,
   "id": "da3ee1ff",
   "metadata": {},
   "outputs": [],
   "source": []
  }
 ],
 "metadata": {
  "kernelspec": {
   "display_name": "Python 3 (ipykernel)",
   "language": "python",
   "name": "python3"
  },
  "language_info": {
   "codemirror_mode": {
    "name": "ipython",
    "version": 3
   },
   "file_extension": ".py",
   "mimetype": "text/x-python",
   "name": "python",
   "nbconvert_exporter": "python",
   "pygments_lexer": "ipython3",
   "version": "3.9.7"
  }
 },
 "nbformat": 4,
 "nbformat_minor": 5
}
